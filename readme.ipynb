{
 "cells": [
  {
   "cell_type": "code",
   "execution_count": 1,
   "id": "2d7d5c75",
   "metadata": {},
   "outputs": [],
   "source": [
    "from hypergraph import *"
   ]
  },
  {
   "cell_type": "code",
   "execution_count": 2,
   "id": "6c1d6b7b",
   "metadata": {},
   "outputs": [
    {
     "data": {
      "image/svg+xml": [
       "<svg baseProfile=\"full\" height=\"400px\" version=\"1.1\" viewBox=\"-20,-120,40,240\" width=\"400px\" xmlns=\"http://www.w3.org/2000/svg\" xmlns:ev=\"http://www.w3.org/2001/xml-events\" xmlns:xlink=\"http://www.w3.org/1999/xlink\"><defs /><line stroke=\"black\" x1=\"0px\" x2=\"0px\" y1=\"0px\" y2=\"-100px\" /><line stroke=\"black\" x1=\"0px\" x2=\"0px\" y1=\"0px\" y2=\"100px\" /><circle cx=\"0px\" cy=\"-100px\" r=\"2px\" /><circle cx=\"0px\" cy=\"100px\" r=\"2px\" /><rect fill=\"white\" height=\"30px\" stroke=\"black\" width=\"30px\" x=\"-15.0px\" y=\"-15.0px\" /><text dominant-baseline=\"middle\" text-anchor=\"middle\" x=\"0px\" y=\"0px\">A</text></svg>"
      ],
      "text/plain": [
       "Graph(nodes={0: (Node(is_hyperedge=False, pos=array([ 0, -1]), label='', attribs={}), [2]), 1: (Node(is_hyperedge=False, pos=array([0, 1]), label='', attribs={}), [2]), 2: (Node(is_hyperedge=True, pos=array([0, 0]), label='A', attribs={}), [0, 1])})"
      ]
     },
     "execution_count": 2,
     "metadata": {},
     "output_type": "execute_result"
    }
   ],
   "source": [
    "starting_graph = Graph({\n",
    "  0: vertex((0, -1)),\n",
    "  1: vertex((0,  1)),\n",
    "  2: hyperedge((0, 0), \"A\", [0, 1])\n",
    "})\n",
    "starting_graph"
   ]
  }
 ],
 "metadata": {
  "kernelspec": {
   "display_name": "Python 3",
   "language": "python",
   "name": "python3"
  },
  "language_info": {
   "codemirror_mode": {
    "name": "ipython",
    "version": 3
   },
   "file_extension": ".py",
   "mimetype": "text/x-python",
   "name": "python",
   "nbconvert_exporter": "python",
   "pygments_lexer": "ipython3",
   "version": "3.9.7"
  }
 },
 "nbformat": 4,
 "nbformat_minor": 5
}
