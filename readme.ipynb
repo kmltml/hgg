{
 "cells": [
  {
   "cell_type": "code",
   "execution_count": 1,
   "id": "df121574",
   "metadata": {},
   "outputs": [],
   "source": [
    "from hypergraph import *"
   ]
  },
  {
   "cell_type": "code",
   "execution_count": 2,
   "id": "bfac84eb",
   "metadata": {},
   "outputs": [],
   "source": [
    "from IPython.core.interactiveshell import InteractiveShell\n",
    "InteractiveShell.ast_node_interactivity = \"last_expr_or_assign\""
   ]
  },
  {
   "cell_type": "code",
   "execution_count": 3,
   "id": "3f8146c6",
   "metadata": {},
   "outputs": [
    {
     "data": {
      "image/svg+xml": [
       "<svg baseProfile=\"full\" height=\"400px\" version=\"1.1\" width=\"400px\" xmlns=\"http://www.w3.org/2000/svg\" xmlns:ev=\"http://www.w3.org/2001/xml-events\" xmlns:xlink=\"http://www.w3.org/1999/xlink\"><defs /><svg viewBox=\"-50.0,-140,90.0,280\"><defs /><line stroke=\"black\" x1=\"-10.0px\" x2=\"0px\" y1=\"0.0px\" y2=\"-100px\" /><line stroke=\"black\" x1=\"-10.0px\" x2=\"0px\" y1=\"0.0px\" y2=\"100px\" /><circle cx=\"0px\" cy=\"-100px\" r=\"2px\" /><circle cx=\"0px\" cy=\"100px\" r=\"2px\" /><rect fill=\"white\" height=\"30px\" stroke=\"black\" width=\"30px\" x=\"-25.0px\" y=\"-15.0px\" /><text dominant-baseline=\"middle\" text-anchor=\"middle\" x=\"-10.0px\" y=\"0.0px\">A</text></svg></svg>"
      ],
      "text/plain": [
       "Graph(nodes={0: (Node(is_hyperedge=False, pos=array([ 0, -1]), label='', attribs={}), [2]), 1: (Node(is_hyperedge=False, pos=array([0, 1]), label='', attribs={}), [2]), 2: (Node(is_hyperedge=True, pos=array([-0.1,  0. ]), label='A', attribs={}), [0, 1])})"
      ]
     },
     "execution_count": 3,
     "metadata": {},
     "output_type": "execute_result"
    }
   ],
   "source": [
    "starting_graph = Graph({\n",
    "  0: vertex((0, -1)),\n",
    "  1: vertex((0,  1)),\n",
    "  2: hyperedge((-0.1, 0), \"A\", [0, 1])\n",
    "})"
   ]
  },
  {
   "cell_type": "code",
   "execution_count": 4,
   "id": "091e50d9",
   "metadata": {},
   "outputs": [
    {
     "data": {
      "image/svg+xml": [
       "<svg baseProfile=\"full\" height=\"400px\" version=\"1.1\" viewBox=\"0,0,900,400\" width=\"900px\" xmlns=\"http://www.w3.org/2000/svg\" xmlns:ev=\"http://www.w3.org/2001/xml-events\" xmlns:xlink=\"http://www.w3.org/1999/xlink\"><defs /><svg viewBox=\"-50.0,-140,90.0,280\" x=\"-250px\"><defs /><line stroke=\"black\" x1=\"-10.0px\" x2=\"0px\" y1=\"0.0px\" y2=\"-100px\" /><line stroke=\"black\" x1=\"-10.0px\" x2=\"0px\" y1=\"0.0px\" y2=\"100px\" /><circle cx=\"0px\" cy=\"-100px\" r=\"2px\" /><text dominant-baseline=\"middle\" text-anchor=\"middle\" x=\"10px\" y=\"-90px\">0</text><circle cx=\"0px\" cy=\"100px\" r=\"2px\" /><text dominant-baseline=\"middle\" text-anchor=\"middle\" x=\"10px\" y=\"110px\">1</text><rect fill=\"white\" height=\"30px\" stroke=\"black\" width=\"30px\" x=\"-25.0px\" y=\"-15.0px\" /><text dominant-baseline=\"middle\" text-anchor=\"middle\" x=\"-10.0px\" y=\"0.0px\">A</text><text dominant-baseline=\"middle\" text-anchor=\"middle\" x=\"15.0px\" y=\"25.0px\">2</text></svg><svg viewBox=\"-40,-140,280,280\" x=\"250px\"><defs /><line stroke=\"black\" x1=\"0px\" x2=\"0px\" y1=\"0px\" y2=\"-100px\" /><line stroke=\"black\" x1=\"0px\" x2=\"0px\" y1=\"0px\" y2=\"100px\" /><line stroke=\"black\" x1=\"100px\" x2=\"0px\" y1=\"-100px\" y2=\"-100px\" /><line stroke=\"black\" x1=\"100px\" x2=\"200px\" y1=\"-100px\" y2=\"-100px\" /><line stroke=\"black\" x1=\"100px\" x2=\"0px\" y1=\"100px\" y2=\"100px\" /><line stroke=\"black\" x1=\"100px\" x2=\"200px\" y1=\"100px\" y2=\"100px\" /><line stroke=\"black\" x1=\"190.0px\" x2=\"200px\" y1=\"0.0px\" y2=\"-100px\" /><line stroke=\"black\" x1=\"190.0px\" x2=\"200px\" y1=\"0.0px\" y2=\"100px\" /><circle cx=\"0px\" cy=\"-100px\" r=\"2px\" /><text dominant-baseline=\"middle\" text-anchor=\"middle\" x=\"10px\" y=\"-90px\">0</text><circle cx=\"0px\" cy=\"100px\" r=\"2px\" /><text dominant-baseline=\"middle\" text-anchor=\"middle\" x=\"10px\" y=\"110px\">1</text><rect fill=\"white\" height=\"30px\" stroke=\"black\" width=\"30px\" x=\"-15.0px\" y=\"-15.0px\" /><text dominant-baseline=\"middle\" text-anchor=\"middle\" x=\"0px\" y=\"0px\">X</text><text dominant-baseline=\"middle\" text-anchor=\"middle\" x=\"25.0px\" y=\"25.0px\">2</text><circle cx=\"200px\" cy=\"-100px\" r=\"2px\" /><text dominant-baseline=\"middle\" text-anchor=\"middle\" x=\"210px\" y=\"-90px\">3</text><circle cx=\"200px\" cy=\"100px\" r=\"2px\" /><text dominant-baseline=\"middle\" text-anchor=\"middle\" x=\"210px\" y=\"110px\">4</text><rect fill=\"white\" height=\"30px\" stroke=\"black\" width=\"30px\" x=\"85.0px\" y=\"-115.0px\" /><text dominant-baseline=\"middle\" text-anchor=\"middle\" x=\"100px\" y=\"-100px\">B</text><text dominant-baseline=\"middle\" text-anchor=\"middle\" x=\"125.0px\" y=\"-75.0px\">5</text><rect fill=\"white\" height=\"30px\" stroke=\"black\" width=\"30px\" x=\"85.0px\" y=\"85.0px\" /><text dominant-baseline=\"middle\" text-anchor=\"middle\" x=\"100px\" y=\"100px\">B</text><text dominant-baseline=\"middle\" text-anchor=\"middle\" x=\"125.0px\" y=\"125.0px\">6</text><rect fill=\"white\" height=\"30px\" stroke=\"black\" width=\"30px\" x=\"175.0px\" y=\"-15.0px\" /><text dominant-baseline=\"middle\" text-anchor=\"middle\" x=\"190.0px\" y=\"0.0px\">A</text><text dominant-baseline=\"middle\" text-anchor=\"middle\" x=\"215.0px\" y=\"25.0px\">7</text></svg><line stroke=\"black\" x1=\"420px\" x2=\"480px\" y1=\"200px\" y2=\"200px\" /><line stroke=\"black\" x1=\"480px\" x2=\"460px\" y1=\"200px\" y2=\"210px\" /><line stroke=\"black\" x1=\"480px\" x2=\"460px\" y1=\"200px\" y2=\"190px\" /></svg>"
      ],
      "text/plain": [
       "Production(left=Graph(nodes={0: (Node(is_hyperedge=False, pos=array([ 0, -1]), label='', attribs={}), [2]), 1: (Node(is_hyperedge=False, pos=array([0, 1]), label='', attribs={}), [2]), 2: (Node(is_hyperedge=True, pos=array([-0.1,  0. ]), label='A', attribs={}), [0, 1])}), right=Graph(nodes={0: (Node(is_hyperedge=False, pos=array([ 0, -1]), label='', attribs={}), [2, 5]), 1: (Node(is_hyperedge=False, pos=array([0, 1]), label='', attribs={}), [2, 6]), 2: (Node(is_hyperedge=True, pos=array([0, 0]), label='X', attribs={}), [0, 1]), 3: (Node(is_hyperedge=False, pos=array([ 2, -1]), label='', attribs={}), [5, 7]), 4: (Node(is_hyperedge=False, pos=array([2, 1]), label='', attribs={}), [6, 7]), 5: (Node(is_hyperedge=True, pos=array([ 1, -1]), label='B', attribs={}), [0, 3]), 6: (Node(is_hyperedge=True, pos=array([1, 1]), label='B', attribs={}), [1, 4]), 7: (Node(is_hyperedge=True, pos=array([1.9, 0. ]), label='A', attribs={}), [3, 4])}), seed_node=2)"
      ]
     },
     "execution_count": 4,
     "metadata": {},
     "output_type": "execute_result"
    }
   ],
   "source": [
    "prod = Production(\n",
    "    left = Graph({\n",
    "        0: vertex((0, -1)),\n",
    "        1: vertex((0,  1)),\n",
    "        2: hyperedge((-0.1, 0), \"A\", [0, 1])\n",
    "    }),\n",
    "    right = Graph({\n",
    "        0: vertex((0, -1)),\n",
    "        1: vertex((0,  1)),\n",
    "        2: hyperedge((0, 0), \"X\", [0, 1]),\n",
    "        3: vertex((2, -1)),\n",
    "        4: vertex((2,  1)),\n",
    "        5: hyperedge((1, -1), \"B\", [0, 3]),\n",
    "        6: hyperedge((1,  1), \"B\", [1, 4]),\n",
    "        7: hyperedge((1.9,  0), \"A\", [3, 4]),\n",
    "    }),\n",
    "    seed_node = 2\n",
    ")"
   ]
  },
  {
   "cell_type": "code",
   "execution_count": 5,
   "id": "68c48286",
   "metadata": {},
   "outputs": [
    {
     "data": {
      "image/svg+xml": [
       "<svg baseProfile=\"full\" height=\"400px\" version=\"1.1\" width=\"400px\" xmlns=\"http://www.w3.org/2000/svg\" xmlns:ev=\"http://www.w3.org/2001/xml-events\" xmlns:xlink=\"http://www.w3.org/1999/xlink\"><defs /><svg viewBox=\"-40.0,-140.0,280.0,280.0\"><defs /><line stroke=\"black\" x1=\"0.0px\" x2=\"0.0px\" y1=\"0.0px\" y2=\"-100.0px\" /><line stroke=\"black\" x1=\"0.0px\" x2=\"0.0px\" y1=\"0.0px\" y2=\"100.0px\" /><line stroke=\"black\" x1=\"100.0px\" x2=\"0.0px\" y1=\"100.0px\" y2=\"100.0px\" /><line stroke=\"black\" x1=\"100.0px\" x2=\"200.0px\" y1=\"100.0px\" y2=\"100.0px\" /><line stroke=\"black\" x1=\"100.0px\" x2=\"0.0px\" y1=\"-100.0px\" y2=\"-100.0px\" /><line stroke=\"black\" x1=\"100.0px\" x2=\"200.0px\" y1=\"-100.0px\" y2=\"-100.0px\" /><line stroke=\"black\" x1=\"190.0px\" x2=\"200.0px\" y1=\"0.0px\" y2=\"100.0px\" /><line stroke=\"black\" x1=\"190.0px\" x2=\"200.0px\" y1=\"0.0px\" y2=\"-100.0px\" /><circle cx=\"0.0px\" cy=\"-100.0px\" r=\"2px\" /><circle cx=\"0.0px\" cy=\"100.0px\" r=\"2px\" /><rect fill=\"white\" height=\"30px\" stroke=\"black\" width=\"30px\" x=\"-15.0px\" y=\"-15.0px\" /><text dominant-baseline=\"middle\" text-anchor=\"middle\" x=\"0.0px\" y=\"0.0px\">X</text><circle cx=\"200.0px\" cy=\"100.0px\" r=\"2px\" /><circle cx=\"200.0px\" cy=\"-100.0px\" r=\"2px\" /><rect fill=\"white\" height=\"30px\" stroke=\"black\" width=\"30px\" x=\"85.0px\" y=\"85.0px\" /><text dominant-baseline=\"middle\" text-anchor=\"middle\" x=\"100.0px\" y=\"100.0px\">B</text><rect fill=\"white\" height=\"30px\" stroke=\"black\" width=\"30px\" x=\"85.0px\" y=\"-115.0px\" /><text dominant-baseline=\"middle\" text-anchor=\"middle\" x=\"100.0px\" y=\"-100.0px\">B</text><rect fill=\"white\" height=\"30px\" stroke=\"black\" width=\"30px\" x=\"175.0px\" y=\"-15.0px\" /><text dominant-baseline=\"middle\" text-anchor=\"middle\" x=\"190.0px\" y=\"0.0px\">A</text></svg></svg>"
      ],
      "text/plain": [
       "Graph(nodes={0: (Node(is_hyperedge=False, pos=array([ 0., -1.]), label='', attribs={}), [2, 6]), 1: (Node(is_hyperedge=False, pos=array([0., 1.]), label='', attribs={}), [2, 5]), 2: (Node(is_hyperedge=True, pos=array([0., 0.]), label='X', attribs={}), [0, 1]), 3: (Node(is_hyperedge=False, pos=array([2., 1.]), label='', attribs={}), [5, 7]), 4: (Node(is_hyperedge=False, pos=array([ 2., -1.]), label='', attribs={}), [6, 7]), 5: (Node(is_hyperedge=True, pos=array([1., 1.]), label='B', attribs={}), [1, 3]), 6: (Node(is_hyperedge=True, pos=array([ 1., -1.]), label='B', attribs={}), [0, 4]), 7: (Node(is_hyperedge=True, pos=array([1.9, 0. ]), label='A', attribs={}), [3, 4])})"
      ]
     },
     "metadata": {},
     "output_type": "display_data"
    },
    {
     "data": {
      "image/svg+xml": [
       "<svg baseProfile=\"full\" height=\"400px\" version=\"1.1\" width=\"400px\" xmlns=\"http://www.w3.org/2000/svg\" xmlns:ev=\"http://www.w3.org/2001/xml-events\" xmlns:xlink=\"http://www.w3.org/1999/xlink\"><defs /><svg viewBox=\"-40.0,-140.0,480.00000000000017,280.0\"><defs /><line stroke=\"black\" x1=\"0.0px\" x2=\"0.0px\" y1=\"0.0px\" y2=\"-100.0px\" /><line stroke=\"black\" x1=\"0.0px\" x2=\"0.0px\" y1=\"0.0px\" y2=\"100.0px\" /><line stroke=\"black\" x1=\"100.0px\" x2=\"0.0px\" y1=\"100.0px\" y2=\"100.0px\" /><line stroke=\"black\" x1=\"100.0px\" x2=\"200.0px\" y1=\"100.0px\" y2=\"100.0px\" /><line stroke=\"black\" x1=\"100.0px\" x2=\"0.0px\" y1=\"-100.0px\" y2=\"-100.0px\" /><line stroke=\"black\" x1=\"100.0px\" x2=\"200.0px\" y1=\"-100.0px\" y2=\"-100.0px\" /><line stroke=\"black\" x1=\"200.0px\" x2=\"200.0px\" y1=\"0.0px\" y2=\"100.0px\" /><line stroke=\"black\" x1=\"200.0px\" x2=\"200.0px\" y1=\"0.0px\" y2=\"-100.0px\" /><line stroke=\"black\" x1=\"300.0000000000001px\" x2=\"200.0px\" y1=\"-100.0px\" y2=\"-100.0px\" /><line stroke=\"black\" x1=\"300.0000000000001px\" x2=\"400.00000000000017px\" y1=\"-100.0px\" y2=\"-100.0px\" /><line stroke=\"black\" x1=\"300.0000000000001px\" x2=\"200.0px\" y1=\"100.0px\" y2=\"100.0px\" /><line stroke=\"black\" x1=\"300.0000000000001px\" x2=\"400.00000000000017px\" y1=\"100.0px\" y2=\"100.0px\" /><line stroke=\"black\" x1=\"390.00000000000017px\" x2=\"400.00000000000017px\" y1=\"0.0px\" y2=\"-100.0px\" /><line stroke=\"black\" x1=\"390.00000000000017px\" x2=\"400.00000000000017px\" y1=\"0.0px\" y2=\"100.0px\" /><circle cx=\"0.0px\" cy=\"-100.0px\" r=\"2px\" /><circle cx=\"0.0px\" cy=\"100.0px\" r=\"2px\" /><rect fill=\"white\" height=\"30px\" stroke=\"black\" width=\"30px\" x=\"-15.0px\" y=\"-15.0px\" /><text dominant-baseline=\"middle\" text-anchor=\"middle\" x=\"0.0px\" y=\"0.0px\">X</text><circle cx=\"200.0px\" cy=\"100.0px\" r=\"2px\" /><circle cx=\"200.0px\" cy=\"-100.0px\" r=\"2px\" /><rect fill=\"white\" height=\"30px\" stroke=\"black\" width=\"30px\" x=\"85.0px\" y=\"85.0px\" /><text dominant-baseline=\"middle\" text-anchor=\"middle\" x=\"100.0px\" y=\"100.0px\">B</text><rect fill=\"white\" height=\"30px\" stroke=\"black\" width=\"30px\" x=\"85.0px\" y=\"-115.0px\" /><text dominant-baseline=\"middle\" text-anchor=\"middle\" x=\"100.0px\" y=\"-100.0px\">B</text><rect fill=\"white\" height=\"30px\" stroke=\"black\" width=\"30px\" x=\"185.0px\" y=\"-15.0px\" /><text dominant-baseline=\"middle\" text-anchor=\"middle\" x=\"200.0px\" y=\"0.0px\">X</text><circle cx=\"400.00000000000017px\" cy=\"-100.0px\" r=\"2px\" /><circle cx=\"400.00000000000017px\" cy=\"100.0px\" r=\"2px\" /><rect fill=\"white\" height=\"30px\" stroke=\"black\" width=\"30px\" x=\"285.0000000000001px\" y=\"-115.0px\" /><text dominant-baseline=\"middle\" text-anchor=\"middle\" x=\"300.0000000000001px\" y=\"-100.0px\">B</text><rect fill=\"white\" height=\"30px\" stroke=\"black\" width=\"30px\" x=\"285.0000000000001px\" y=\"85.0px\" /><text dominant-baseline=\"middle\" text-anchor=\"middle\" x=\"300.0000000000001px\" y=\"100.0px\">B</text><rect fill=\"white\" height=\"30px\" stroke=\"black\" width=\"30px\" x=\"375.00000000000017px\" y=\"-15.0px\" /><text dominant-baseline=\"middle\" text-anchor=\"middle\" x=\"390.00000000000017px\" y=\"0.0px\">A</text></svg></svg>"
      ],
      "text/plain": [
       "Graph(nodes={0: (Node(is_hyperedge=False, pos=array([ 0., -1.]), label='', attribs={}), [2, 6]), 1: (Node(is_hyperedge=False, pos=array([0., 1.]), label='', attribs={}), [2, 5]), 2: (Node(is_hyperedge=True, pos=array([0., 0.]), label='X', attribs={}), [0, 1]), 3: (Node(is_hyperedge=False, pos=array([2., 1.]), label='', attribs={}), [11, 5, 7]), 4: (Node(is_hyperedge=False, pos=array([ 2., -1.]), label='', attribs={}), [10, 6, 7]), 5: (Node(is_hyperedge=True, pos=array([1., 1.]), label='B', attribs={}), [1, 3]), 6: (Node(is_hyperedge=True, pos=array([ 1., -1.]), label='B', attribs={}), [0, 4]), 7: (Node(is_hyperedge=True, pos=array([2., 0.]), label='X', attribs={}), [3, 4]), 8: (Node(is_hyperedge=False, pos=array([ 4., -1.]), label='', attribs={}), [10, 12]), 9: (Node(is_hyperedge=False, pos=array([4., 1.]), label='', attribs={}), [11, 12]), 10: (Node(is_hyperedge=True, pos=array([ 3., -1.]), label='B', attribs={}), [4, 8]), 11: (Node(is_hyperedge=True, pos=array([3., 1.]), label='B', attribs={}), [3, 9]), 12: (Node(is_hyperedge=True, pos=array([3.9, 0. ]), label='A', attribs={}), [8, 9])})"
      ]
     },
     "metadata": {},
     "output_type": "display_data"
    },
    {
     "data": {
      "image/svg+xml": [
       "<svg baseProfile=\"full\" height=\"400px\" version=\"1.1\" width=\"400px\" xmlns=\"http://www.w3.org/2000/svg\" xmlns:ev=\"http://www.w3.org/2001/xml-events\" xmlns:xlink=\"http://www.w3.org/1999/xlink\"><defs /><svg viewBox=\"-40.0,-140.0,680.0000000000003,280.0\"><defs /><line stroke=\"black\" x1=\"0.0px\" x2=\"0.0px\" y1=\"0.0px\" y2=\"-100.0px\" /><line stroke=\"black\" x1=\"0.0px\" x2=\"0.0px\" y1=\"0.0px\" y2=\"100.0px\" /><line stroke=\"black\" x1=\"100.0px\" x2=\"0.0px\" y1=\"100.0px\" y2=\"100.0px\" /><line stroke=\"black\" x1=\"100.0px\" x2=\"200.0px\" y1=\"100.0px\" y2=\"100.0px\" /><line stroke=\"black\" x1=\"100.0px\" x2=\"0.0px\" y1=\"-100.0px\" y2=\"-100.0px\" /><line stroke=\"black\" x1=\"100.0px\" x2=\"200.0px\" y1=\"-100.0px\" y2=\"-100.0px\" /><line stroke=\"black\" x1=\"200.0px\" x2=\"200.0px\" y1=\"0.0px\" y2=\"100.0px\" /><line stroke=\"black\" x1=\"200.0px\" x2=\"200.0px\" y1=\"0.0px\" y2=\"-100.0px\" /><line stroke=\"black\" x1=\"300.0000000000001px\" x2=\"200.0px\" y1=\"-100.0px\" y2=\"-100.0px\" /><line stroke=\"black\" x1=\"300.0000000000001px\" x2=\"400.00000000000017px\" y1=\"-100.0px\" y2=\"-100.0px\" /><line stroke=\"black\" x1=\"300.0000000000001px\" x2=\"200.0px\" y1=\"100.0px\" y2=\"100.0px\" /><line stroke=\"black\" x1=\"300.0000000000001px\" x2=\"400.00000000000017px\" y1=\"100.0px\" y2=\"100.0px\" /><line stroke=\"black\" x1=\"400.00000000000017px\" x2=\"400.00000000000017px\" y1=\"0.0px\" y2=\"-100.0px\" /><line stroke=\"black\" x1=\"400.00000000000017px\" x2=\"400.00000000000017px\" y1=\"0.0px\" y2=\"100.0px\" /><line stroke=\"black\" x1=\"500.0000000000003px\" x2=\"400.00000000000017px\" y1=\"100.0px\" y2=\"100.0px\" /><line stroke=\"black\" x1=\"500.0000000000003px\" x2=\"600.0000000000003px\" y1=\"100.0px\" y2=\"100.0px\" /><line stroke=\"black\" x1=\"500.0000000000003px\" x2=\"400.00000000000017px\" y1=\"-100.0px\" y2=\"-100.0px\" /><line stroke=\"black\" x1=\"500.0000000000003px\" x2=\"600.0000000000003px\" y1=\"-100.0px\" y2=\"-100.0px\" /><line stroke=\"black\" x1=\"590.0000000000003px\" x2=\"600.0000000000003px\" y1=\"0.0px\" y2=\"100.0px\" /><line stroke=\"black\" x1=\"590.0000000000003px\" x2=\"600.0000000000003px\" y1=\"0.0px\" y2=\"-100.0px\" /><circle cx=\"0.0px\" cy=\"-100.0px\" r=\"2px\" /><circle cx=\"0.0px\" cy=\"100.0px\" r=\"2px\" /><rect fill=\"white\" height=\"30px\" stroke=\"black\" width=\"30px\" x=\"-15.0px\" y=\"-15.0px\" /><text dominant-baseline=\"middle\" text-anchor=\"middle\" x=\"0.0px\" y=\"0.0px\">X</text><circle cx=\"200.0px\" cy=\"100.0px\" r=\"2px\" /><circle cx=\"200.0px\" cy=\"-100.0px\" r=\"2px\" /><rect fill=\"white\" height=\"30px\" stroke=\"black\" width=\"30px\" x=\"85.0px\" y=\"85.0px\" /><text dominant-baseline=\"middle\" text-anchor=\"middle\" x=\"100.0px\" y=\"100.0px\">B</text><rect fill=\"white\" height=\"30px\" stroke=\"black\" width=\"30px\" x=\"85.0px\" y=\"-115.0px\" /><text dominant-baseline=\"middle\" text-anchor=\"middle\" x=\"100.0px\" y=\"-100.0px\">B</text><rect fill=\"white\" height=\"30px\" stroke=\"black\" width=\"30px\" x=\"185.0px\" y=\"-15.0px\" /><text dominant-baseline=\"middle\" text-anchor=\"middle\" x=\"200.0px\" y=\"0.0px\">X</text><circle cx=\"400.00000000000017px\" cy=\"-100.0px\" r=\"2px\" /><circle cx=\"400.00000000000017px\" cy=\"100.0px\" r=\"2px\" /><rect fill=\"white\" height=\"30px\" stroke=\"black\" width=\"30px\" x=\"285.0000000000001px\" y=\"-115.0px\" /><text dominant-baseline=\"middle\" text-anchor=\"middle\" x=\"300.0000000000001px\" y=\"-100.0px\">B</text><rect fill=\"white\" height=\"30px\" stroke=\"black\" width=\"30px\" x=\"285.0000000000001px\" y=\"85.0px\" /><text dominant-baseline=\"middle\" text-anchor=\"middle\" x=\"300.0000000000001px\" y=\"100.0px\">B</text><rect fill=\"white\" height=\"30px\" stroke=\"black\" width=\"30px\" x=\"385.00000000000017px\" y=\"-15.0px\" /><text dominant-baseline=\"middle\" text-anchor=\"middle\" x=\"400.00000000000017px\" y=\"0.0px\">X</text><circle cx=\"600.0000000000003px\" cy=\"100.0px\" r=\"2px\" /><circle cx=\"600.0000000000003px\" cy=\"-100.0px\" r=\"2px\" /><rect fill=\"white\" height=\"30px\" stroke=\"black\" width=\"30px\" x=\"485.0000000000003px\" y=\"85.0px\" /><text dominant-baseline=\"middle\" text-anchor=\"middle\" x=\"500.0000000000003px\" y=\"100.0px\">B</text><rect fill=\"white\" height=\"30px\" stroke=\"black\" width=\"30px\" x=\"485.0000000000003px\" y=\"-115.0px\" /><text dominant-baseline=\"middle\" text-anchor=\"middle\" x=\"500.0000000000003px\" y=\"-100.0px\">B</text><rect fill=\"white\" height=\"30px\" stroke=\"black\" width=\"30px\" x=\"575.0000000000003px\" y=\"-15.0px\" /><text dominant-baseline=\"middle\" text-anchor=\"middle\" x=\"590.0000000000003px\" y=\"0.0px\">A</text></svg></svg>"
      ],
      "text/plain": [
       "Graph(nodes={0: (Node(is_hyperedge=False, pos=array([ 0., -1.]), label='', attribs={}), [2, 6]), 1: (Node(is_hyperedge=False, pos=array([0., 1.]), label='', attribs={}), [2, 5]), 2: (Node(is_hyperedge=True, pos=array([0., 0.]), label='X', attribs={}), [0, 1]), 3: (Node(is_hyperedge=False, pos=array([2., 1.]), label='', attribs={}), [11, 5, 7]), 4: (Node(is_hyperedge=False, pos=array([ 2., -1.]), label='', attribs={}), [10, 6, 7]), 5: (Node(is_hyperedge=True, pos=array([1., 1.]), label='B', attribs={}), [1, 3]), 6: (Node(is_hyperedge=True, pos=array([ 1., -1.]), label='B', attribs={}), [0, 4]), 7: (Node(is_hyperedge=True, pos=array([2., 0.]), label='X', attribs={}), [3, 4]), 8: (Node(is_hyperedge=False, pos=array([ 4., -1.]), label='', attribs={}), [16, 10, 12]), 9: (Node(is_hyperedge=False, pos=array([4., 1.]), label='', attribs={}), [11, 12, 15]), 10: (Node(is_hyperedge=True, pos=array([ 3., -1.]), label='B', attribs={}), [4, 8]), 11: (Node(is_hyperedge=True, pos=array([3., 1.]), label='B', attribs={}), [3, 9]), 12: (Node(is_hyperedge=True, pos=array([4., 0.]), label='X', attribs={}), [8, 9]), 13: (Node(is_hyperedge=False, pos=array([6., 1.]), label='', attribs={}), [15, 17]), 14: (Node(is_hyperedge=False, pos=array([ 6., -1.]), label='', attribs={}), [16, 17]), 15: (Node(is_hyperedge=True, pos=array([5., 1.]), label='B', attribs={}), [9, 13]), 16: (Node(is_hyperedge=True, pos=array([ 5., -1.]), label='B', attribs={}), [8, 14]), 17: (Node(is_hyperedge=True, pos=array([5.9, 0. ]), label='A', attribs={}), [13, 14])})"
      ]
     },
     "metadata": {},
     "output_type": "display_data"
    },
    {
     "data": {
      "image/svg+xml": [
       "<svg baseProfile=\"full\" height=\"400px\" version=\"1.1\" width=\"400px\" xmlns=\"http://www.w3.org/2000/svg\" xmlns:ev=\"http://www.w3.org/2001/xml-events\" xmlns:xlink=\"http://www.w3.org/1999/xlink\"><defs /><svg viewBox=\"-40.0,-140.0,879.9999999999997,280.0\"><defs /><line stroke=\"black\" x1=\"0.0px\" x2=\"0.0px\" y1=\"0.0px\" y2=\"-100.0px\" /><line stroke=\"black\" x1=\"0.0px\" x2=\"0.0px\" y1=\"0.0px\" y2=\"100.0px\" /><line stroke=\"black\" x1=\"100.0px\" x2=\"0.0px\" y1=\"100.0px\" y2=\"100.0px\" /><line stroke=\"black\" x1=\"100.0px\" x2=\"200.0px\" y1=\"100.0px\" y2=\"100.0px\" /><line stroke=\"black\" x1=\"100.0px\" x2=\"0.0px\" y1=\"-100.0px\" y2=\"-100.0px\" /><line stroke=\"black\" x1=\"100.0px\" x2=\"200.0px\" y1=\"-100.0px\" y2=\"-100.0px\" /><line stroke=\"black\" x1=\"200.0px\" x2=\"200.0px\" y1=\"0.0px\" y2=\"100.0px\" /><line stroke=\"black\" x1=\"200.0px\" x2=\"200.0px\" y1=\"0.0px\" y2=\"-100.0px\" /><line stroke=\"black\" x1=\"300.0000000000001px\" x2=\"200.0px\" y1=\"-100.0px\" y2=\"-100.0px\" /><line stroke=\"black\" x1=\"300.0000000000001px\" x2=\"400.00000000000017px\" y1=\"-100.0px\" y2=\"-100.0px\" /><line stroke=\"black\" x1=\"300.0000000000001px\" x2=\"200.0px\" y1=\"100.0px\" y2=\"100.0px\" /><line stroke=\"black\" x1=\"300.0000000000001px\" x2=\"400.00000000000017px\" y1=\"100.0px\" y2=\"100.0px\" /><line stroke=\"black\" x1=\"400.00000000000017px\" x2=\"400.00000000000017px\" y1=\"0.0px\" y2=\"-100.0px\" /><line stroke=\"black\" x1=\"400.00000000000017px\" x2=\"400.00000000000017px\" y1=\"0.0px\" y2=\"100.0px\" /><line stroke=\"black\" x1=\"500.0000000000003px\" x2=\"400.00000000000017px\" y1=\"100.0px\" y2=\"100.0px\" /><line stroke=\"black\" x1=\"500.0000000000003px\" x2=\"600.0000000000003px\" y1=\"100.0px\" y2=\"100.0px\" /><line stroke=\"black\" x1=\"500.0000000000003px\" x2=\"400.00000000000017px\" y1=\"-100.0px\" y2=\"-100.0px\" /><line stroke=\"black\" x1=\"500.0000000000003px\" x2=\"600.0000000000003px\" y1=\"-100.0px\" y2=\"-100.0px\" /><line stroke=\"black\" x1=\"600.0000000000003px\" x2=\"600.0000000000003px\" y1=\"0.0px\" y2=\"100.0px\" /><line stroke=\"black\" x1=\"600.0000000000003px\" x2=\"600.0000000000003px\" y1=\"0.0px\" y2=\"-100.0px\" /><line stroke=\"black\" x1=\"700.0px\" x2=\"600.0000000000003px\" y1=\"-100.0px\" y2=\"-100.0px\" /><line stroke=\"black\" x1=\"700.0px\" x2=\"799.9999999999997px\" y1=\"-100.0px\" y2=\"-100.0px\" /><line stroke=\"black\" x1=\"700.0px\" x2=\"600.0000000000003px\" y1=\"100.0px\" y2=\"100.0px\" /><line stroke=\"black\" x1=\"700.0px\" x2=\"799.9999999999997px\" y1=\"100.0px\" y2=\"100.0px\" /><line stroke=\"black\" x1=\"789.9999999999997px\" x2=\"799.9999999999997px\" y1=\"0.0px\" y2=\"-100.0px\" /><line stroke=\"black\" x1=\"789.9999999999997px\" x2=\"799.9999999999997px\" y1=\"0.0px\" y2=\"100.0px\" /><circle cx=\"0.0px\" cy=\"-100.0px\" r=\"2px\" /><circle cx=\"0.0px\" cy=\"100.0px\" r=\"2px\" /><rect fill=\"white\" height=\"30px\" stroke=\"black\" width=\"30px\" x=\"-15.0px\" y=\"-15.0px\" /><text dominant-baseline=\"middle\" text-anchor=\"middle\" x=\"0.0px\" y=\"0.0px\">X</text><circle cx=\"200.0px\" cy=\"100.0px\" r=\"2px\" /><circle cx=\"200.0px\" cy=\"-100.0px\" r=\"2px\" /><rect fill=\"white\" height=\"30px\" stroke=\"black\" width=\"30px\" x=\"85.0px\" y=\"85.0px\" /><text dominant-baseline=\"middle\" text-anchor=\"middle\" x=\"100.0px\" y=\"100.0px\">B</text><rect fill=\"white\" height=\"30px\" stroke=\"black\" width=\"30px\" x=\"85.0px\" y=\"-115.0px\" /><text dominant-baseline=\"middle\" text-anchor=\"middle\" x=\"100.0px\" y=\"-100.0px\">B</text><rect fill=\"white\" height=\"30px\" stroke=\"black\" width=\"30px\" x=\"185.0px\" y=\"-15.0px\" /><text dominant-baseline=\"middle\" text-anchor=\"middle\" x=\"200.0px\" y=\"0.0px\">X</text><circle cx=\"400.00000000000017px\" cy=\"-100.0px\" r=\"2px\" /><circle cx=\"400.00000000000017px\" cy=\"100.0px\" r=\"2px\" /><rect fill=\"white\" height=\"30px\" stroke=\"black\" width=\"30px\" x=\"285.0000000000001px\" y=\"-115.0px\" /><text dominant-baseline=\"middle\" text-anchor=\"middle\" x=\"300.0000000000001px\" y=\"-100.0px\">B</text><rect fill=\"white\" height=\"30px\" stroke=\"black\" width=\"30px\" x=\"285.0000000000001px\" y=\"85.0px\" /><text dominant-baseline=\"middle\" text-anchor=\"middle\" x=\"300.0000000000001px\" y=\"100.0px\">B</text><rect fill=\"white\" height=\"30px\" stroke=\"black\" width=\"30px\" x=\"385.00000000000017px\" y=\"-15.0px\" /><text dominant-baseline=\"middle\" text-anchor=\"middle\" x=\"400.00000000000017px\" y=\"0.0px\">X</text><circle cx=\"600.0000000000003px\" cy=\"100.0px\" r=\"2px\" /><circle cx=\"600.0000000000003px\" cy=\"-100.0px\" r=\"2px\" /><rect fill=\"white\" height=\"30px\" stroke=\"black\" width=\"30px\" x=\"485.0000000000003px\" y=\"85.0px\" /><text dominant-baseline=\"middle\" text-anchor=\"middle\" x=\"500.0000000000003px\" y=\"100.0px\">B</text><rect fill=\"white\" height=\"30px\" stroke=\"black\" width=\"30px\" x=\"485.0000000000003px\" y=\"-115.0px\" /><text dominant-baseline=\"middle\" text-anchor=\"middle\" x=\"500.0000000000003px\" y=\"-100.0px\">B</text><rect fill=\"white\" height=\"30px\" stroke=\"black\" width=\"30px\" x=\"585.0000000000003px\" y=\"-15.0px\" /><text dominant-baseline=\"middle\" text-anchor=\"middle\" x=\"600.0000000000003px\" y=\"0.0px\">X</text><circle cx=\"799.9999999999997px\" cy=\"-100.0px\" r=\"2px\" /><circle cx=\"799.9999999999997px\" cy=\"100.0px\" r=\"2px\" /><rect fill=\"white\" height=\"30px\" stroke=\"black\" width=\"30px\" x=\"685.0px\" y=\"-115.0px\" /><text dominant-baseline=\"middle\" text-anchor=\"middle\" x=\"700.0px\" y=\"-100.0px\">B</text><rect fill=\"white\" height=\"30px\" stroke=\"black\" width=\"30px\" x=\"685.0px\" y=\"85.0px\" /><text dominant-baseline=\"middle\" text-anchor=\"middle\" x=\"700.0px\" y=\"100.0px\">B</text><rect fill=\"white\" height=\"30px\" stroke=\"black\" width=\"30px\" x=\"774.9999999999997px\" y=\"-15.0px\" /><text dominant-baseline=\"middle\" text-anchor=\"middle\" x=\"789.9999999999997px\" y=\"0.0px\">A</text></svg></svg>"
      ],
      "text/plain": [
       "Graph(nodes={0: (Node(is_hyperedge=False, pos=array([ 0., -1.]), label='', attribs={}), [2, 6]), 1: (Node(is_hyperedge=False, pos=array([0., 1.]), label='', attribs={}), [2, 5]), 2: (Node(is_hyperedge=True, pos=array([0., 0.]), label='X', attribs={}), [0, 1]), 3: (Node(is_hyperedge=False, pos=array([2., 1.]), label='', attribs={}), [11, 5, 7]), 4: (Node(is_hyperedge=False, pos=array([ 2., -1.]), label='', attribs={}), [10, 6, 7]), 5: (Node(is_hyperedge=True, pos=array([1., 1.]), label='B', attribs={}), [1, 3]), 6: (Node(is_hyperedge=True, pos=array([ 1., -1.]), label='B', attribs={}), [0, 4]), 7: (Node(is_hyperedge=True, pos=array([2., 0.]), label='X', attribs={}), [3, 4]), 8: (Node(is_hyperedge=False, pos=array([ 4., -1.]), label='', attribs={}), [16, 10, 12]), 9: (Node(is_hyperedge=False, pos=array([4., 1.]), label='', attribs={}), [11, 12, 15]), 10: (Node(is_hyperedge=True, pos=array([ 3., -1.]), label='B', attribs={}), [4, 8]), 11: (Node(is_hyperedge=True, pos=array([3., 1.]), label='B', attribs={}), [3, 9]), 12: (Node(is_hyperedge=True, pos=array([4., 0.]), label='X', attribs={}), [8, 9]), 13: (Node(is_hyperedge=False, pos=array([6., 1.]), label='', attribs={}), [17, 21, 15]), 14: (Node(is_hyperedge=False, pos=array([ 6., -1.]), label='', attribs={}), [16, 17, 20]), 15: (Node(is_hyperedge=True, pos=array([5., 1.]), label='B', attribs={}), [9, 13]), 16: (Node(is_hyperedge=True, pos=array([ 5., -1.]), label='B', attribs={}), [8, 14]), 17: (Node(is_hyperedge=True, pos=array([6., 0.]), label='X', attribs={}), [13, 14]), 18: (Node(is_hyperedge=False, pos=array([ 8., -1.]), label='', attribs={}), [20, 22]), 19: (Node(is_hyperedge=False, pos=array([8., 1.]), label='', attribs={}), [21, 22]), 20: (Node(is_hyperedge=True, pos=array([ 7., -1.]), label='B', attribs={}), [14, 18]), 21: (Node(is_hyperedge=True, pos=array([7., 1.]), label='B', attribs={}), [13, 19]), 22: (Node(is_hyperedge=True, pos=array([7.9, 0. ]), label='A', attribs={}), [18, 19])})"
      ]
     },
     "metadata": {},
     "output_type": "display_data"
    }
   ],
   "source": [
    "graph = starting_graph\n",
    "for i in range(4):\n",
    "    subgraph = next(graph.find_isomorphic(prod.left, prod.seed_node))\n",
    "    graph = prod.apply(graph, subgraph)\n",
    "    display(graph)"
   ]
  }
 ],
 "metadata": {
  "kernelspec": {
   "display_name": "Python 3",
   "language": "python",
   "name": "python3"
  },
  "language_info": {
   "codemirror_mode": {
    "name": "ipython",
    "version": 3
   },
   "file_extension": ".py",
   "mimetype": "text/x-python",
   "name": "python",
   "nbconvert_exporter": "python",
   "pygments_lexer": "ipython3",
   "version": "3.9.7"
  }
 },
 "nbformat": 4,
 "nbformat_minor": 5
}
