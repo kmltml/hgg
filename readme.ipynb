{
 "cells": [
  {
   "cell_type": "code",
   "execution_count": 3,
   "id": "ecd0d0f9",
   "metadata": {},
   "outputs": [],
   "source": [
    "from hypergraph import *"
   ]
  },
  {
   "cell_type": "code",
   "execution_count": 4,
   "id": "0d0da6cb",
   "metadata": {},
   "outputs": [],
   "source": [
    "starting_graph = Graph({\n",
    "    \n",
    "})"
   ]
  }
 ],
 "metadata": {
  "kernelspec": {
   "display_name": "Python 3",
   "language": "python",
   "name": "python3"
  },
  "language_info": {
   "codemirror_mode": {
    "name": "ipython",
    "version": 3
   },
   "file_extension": ".py",
   "mimetype": "text/x-python",
   "name": "python",
   "nbconvert_exporter": "python",
   "pygments_lexer": "ipython3",
   "version": "3.9.7"
  }
 },
 "nbformat": 4,
 "nbformat_minor": 5
}
