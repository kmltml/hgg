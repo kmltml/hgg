{
 "cells": [
  {
   "cell_type": "code",
   "execution_count": 1,
   "id": "df121574",
   "metadata": {},
   "outputs": [],
   "source": [
    "from hypergraph import *"
   ]
  },
  {
   "cell_type": "markdown",
   "id": "9ad6d467-665e-42ee-b8a2-9733ebb0e014",
   "metadata": {
    "tags": []
   },
   "source": [
    "# Graf\n",
    "Hipergrafy są reprezentowane przez instancje klasy `Graph`. Składa się ona z węzłów (klasa `Node`), które odpowiadają wierzchołkom oraz hiperkrawędziom. Każdy węzeł ma poniższe właściwości:\n",
    "- `pos` - Pozycja\n",
    "- `label` - Etykieta\n",
    "- `attrs` - Słownik zawierający atrybuty\n",
    "- `is_hyperedge` - `True` jeżeli węzeł jest hiperkrawędzią, `False` w przeciwnym przypadku\n",
    "\n",
    "W grafie każdy węzeł posiada unikalny identyfikator liczbowy oraz listę węzłów, z którymi jest połączony.\n",
    "\n",
    "Przy tworzeniu grafu przydatne są poniższe funkcje:\n",
    "\n",
    "`vertex(pos: tuple[int, int], label: str = \"\", neighbours: Optional[list[int]] = None, attrs: Optional[dict[str, str]] = None\n",
    ")`\n",
    "`hyperedge(pos: tuple[int, int], label: str, neighbours: list[int], attrs: Optional[dict[str, str]] = None)`\n",
    "\n",
    "Poniżej podany jest przykład prostego grafu."
   ]
  },
  {
   "cell_type": "code",
   "execution_count": 7,
   "id": "3f8146c6",
   "metadata": {},
   "outputs": [
    {
     "data": {
      "image/svg+xml": [
       "<svg baseProfile=\"full\" height=\"400px\" version=\"1.1\" width=\"400px\" xmlns=\"http://www.w3.org/2000/svg\" xmlns:ev=\"http://www.w3.org/2001/xml-events\" xmlns:xlink=\"http://www.w3.org/1999/xlink\"><defs /><svg viewBox=\"-50.0,-140,90.0,280\"><defs /><line stroke=\"black\" x1=\"-10.0px\" x2=\"0px\" y1=\"0.0px\" y2=\"-100px\" /><line stroke=\"black\" x1=\"-10.0px\" x2=\"0px\" y1=\"0.0px\" y2=\"100px\" /><circle cx=\"0px\" cy=\"-100px\" r=\"2px\" /><circle cx=\"0px\" cy=\"100px\" r=\"2px\" /><rect fill=\"white\" height=\"30px\" stroke=\"black\" width=\"30px\" x=\"-25.0px\" y=\"-15.0px\" /><text dominant-baseline=\"middle\" text-anchor=\"middle\" x=\"-10.0px\" y=\"0.0px\">A</text><text dominant-baseline=\"middle\" text-anchor=\"middle\" x=\"-10.0px\" y=\"30.0px\">x = 0</text><text dominant-baseline=\"middle\" text-anchor=\"middle\" x=\"-10.0px\" y=\"45.0px\">y = 0</text></svg></svg>"
      ],
      "text/plain": [
       "Graph(nodes={0: (Node(is_hyperedge=False, pos=array([ 0, -1]), label='', attrs={}), [2]), 1: (Node(is_hyperedge=False, pos=array([0, 1]), label='', attrs={}), [2]), 2: (Node(is_hyperedge=True, pos=array([-0.1,  0. ]), label='A', attrs={'x': 0, 'y': 0}), [0, 1])})"
      ]
     },
     "metadata": {},
     "output_type": "display_data"
    }
   ],
   "source": [
    "starting_graph = Graph({\n",
    "  0: vertex((0, -1)),\n",
    "  1: vertex((0,  1)),\n",
    "  2: hyperedge((-0.1, 0), \"A\", [0, 1], attrs = { \"x\": 0, \"y\": 0 })\n",
    "})\n",
    "display(starting_graph)"
   ]
  },
  {
   "cell_type": "markdown",
   "id": "5d3a902d-64c6-409d-83fd-f292fa19aaf5",
   "metadata": {},
   "source": [
    "Podawanie sąsiadów jest wymagane jedynie w przypadku hiperkrawędzi."
   ]
  },
  {
   "cell_type": "markdown",
   "id": "5d75f652-b30e-420b-9e44-06e1938a1433",
   "metadata": {},
   "source": [
    "# Produkcje\n",
    "Produkcje są reprezentowane przez instancje klasy `Production`. Zawiera ona grafy lewej oraz prawej strony.\n",
    "\n",
    "Węzły z równymi identyfikatorami po lewej i po prawej stronie produkcji zachowują atrybuty oraz poprzednio istniejące połączenia z resztą grafu po zastosowaniu reguły.\n",
    "\n",
    "__Uwaga__, w przeciwieństwie do klasycznej definicji gramatyk hipergrafowych, gdzie transformacja ta dotyczy tylko wierzchołków zewnętrznych w tej bibliotece działa to również dla hiperkrawędzi."
   ]
  },
  {
   "cell_type": "code",
   "execution_count": 9,
   "id": "091e50d9",
   "metadata": {},
   "outputs": [
    {
     "data": {
      "image/svg+xml": [
       "<svg baseProfile=\"full\" height=\"400px\" version=\"1.1\" viewBox=\"0,0,900,400\" width=\"900px\" xmlns=\"http://www.w3.org/2000/svg\" xmlns:ev=\"http://www.w3.org/2001/xml-events\" xmlns:xlink=\"http://www.w3.org/1999/xlink\"><defs /><svg height=\"400px\" viewBox=\"-50.0,-140,90.0,280\" width=\"400px\" x=\"0px\"><defs /><line stroke=\"black\" x1=\"-10.0px\" x2=\"0px\" y1=\"0.0px\" y2=\"-100px\" /><line stroke=\"black\" x1=\"-10.0px\" x2=\"0px\" y1=\"0.0px\" y2=\"100px\" /><circle cx=\"0px\" cy=\"-100px\" r=\"2px\" /><text dominant-baseline=\"middle\" text-anchor=\"middle\" x=\"10px\" y=\"-90px\">0</text><circle cx=\"0px\" cy=\"100px\" r=\"2px\" /><text dominant-baseline=\"middle\" text-anchor=\"middle\" x=\"10px\" y=\"110px\">1</text><rect fill=\"white\" height=\"30px\" stroke=\"black\" width=\"30px\" x=\"-25.0px\" y=\"-15.0px\" /><text dominant-baseline=\"middle\" text-anchor=\"middle\" x=\"-10.0px\" y=\"0.0px\">A</text><text dominant-baseline=\"middle\" text-anchor=\"middle\" x=\"15.0px\" y=\"25.0px\">2</text></svg><svg height=\"400px\" viewBox=\"-40,-140,280,280\" width=\"400px\" x=\"500px\"><defs /><line stroke=\"black\" x1=\"0px\" x2=\"0px\" y1=\"0px\" y2=\"-100px\" /><line stroke=\"black\" x1=\"0px\" x2=\"0px\" y1=\"0px\" y2=\"100px\" /><line stroke=\"black\" x1=\"100px\" x2=\"0px\" y1=\"-100px\" y2=\"-100px\" /><line stroke=\"black\" x1=\"100px\" x2=\"200px\" y1=\"-100px\" y2=\"-100px\" /><line stroke=\"black\" x1=\"100px\" x2=\"0px\" y1=\"100px\" y2=\"100px\" /><line stroke=\"black\" x1=\"100px\" x2=\"200px\" y1=\"100px\" y2=\"100px\" /><line stroke=\"black\" x1=\"190.0px\" x2=\"200px\" y1=\"0.0px\" y2=\"-100px\" /><line stroke=\"black\" x1=\"190.0px\" x2=\"200px\" y1=\"0.0px\" y2=\"100px\" /><circle cx=\"0px\" cy=\"-100px\" r=\"2px\" /><text dominant-baseline=\"middle\" text-anchor=\"middle\" x=\"10px\" y=\"-90px\">0</text><circle cx=\"0px\" cy=\"100px\" r=\"2px\" /><text dominant-baseline=\"middle\" text-anchor=\"middle\" x=\"10px\" y=\"110px\">1</text><rect fill=\"white\" height=\"30px\" stroke=\"black\" width=\"30px\" x=\"-15.0px\" y=\"-15.0px\" /><text dominant-baseline=\"middle\" text-anchor=\"middle\" x=\"0px\" y=\"0px\">X</text><text dominant-baseline=\"middle\" text-anchor=\"middle\" x=\"25.0px\" y=\"25.0px\">2</text><circle cx=\"200px\" cy=\"-100px\" r=\"2px\" /><text dominant-baseline=\"middle\" text-anchor=\"middle\" x=\"210px\" y=\"-90px\">3</text><circle cx=\"200px\" cy=\"100px\" r=\"2px\" /><text dominant-baseline=\"middle\" text-anchor=\"middle\" x=\"210px\" y=\"110px\">4</text><rect fill=\"white\" height=\"30px\" stroke=\"black\" width=\"30px\" x=\"85.0px\" y=\"-115.0px\" /><text dominant-baseline=\"middle\" text-anchor=\"middle\" x=\"100px\" y=\"-100px\">B</text><text dominant-baseline=\"middle\" text-anchor=\"middle\" x=\"125.0px\" y=\"-75.0px\">5</text><rect fill=\"white\" height=\"30px\" stroke=\"black\" width=\"30px\" x=\"85.0px\" y=\"85.0px\" /><text dominant-baseline=\"middle\" text-anchor=\"middle\" x=\"100px\" y=\"100px\">B</text><text dominant-baseline=\"middle\" text-anchor=\"middle\" x=\"125.0px\" y=\"125.0px\">6</text><rect fill=\"white\" height=\"30px\" stroke=\"black\" width=\"30px\" x=\"175.0px\" y=\"-15.0px\" /><text dominant-baseline=\"middle\" text-anchor=\"middle\" x=\"190.0px\" y=\"0.0px\">A</text><text dominant-baseline=\"middle\" text-anchor=\"middle\" x=\"215.0px\" y=\"25.0px\">7</text></svg><line stroke=\"black\" x1=\"420px\" x2=\"480px\" y1=\"200px\" y2=\"200px\" /><line stroke=\"black\" x1=\"480px\" x2=\"460px\" y1=\"200px\" y2=\"210px\" /><line stroke=\"black\" x1=\"480px\" x2=\"460px\" y1=\"200px\" y2=\"190px\" /></svg>"
      ],
      "text/plain": [
       "Production(left=Graph(nodes={0: (Node(is_hyperedge=False, pos=array([ 0, -1]), label='', attrs={}), [2]), 1: (Node(is_hyperedge=False, pos=array([0, 1]), label='', attrs={}), [2]), 2: (Node(is_hyperedge=True, pos=array([-0.1,  0. ]), label='A', attrs={}), [0, 1])}), right=Graph(nodes={0: (Node(is_hyperedge=False, pos=array([ 0, -1]), label='', attrs={}), [2, 5]), 1: (Node(is_hyperedge=False, pos=array([0, 1]), label='', attrs={}), [2, 6]), 2: (Node(is_hyperedge=True, pos=array([0, 0]), label='X', attrs={}), [0, 1]), 3: (Node(is_hyperedge=False, pos=array([ 2, -1]), label='', attrs={}), [5, 7]), 4: (Node(is_hyperedge=False, pos=array([2, 1]), label='', attrs={}), [6, 7]), 5: (Node(is_hyperedge=True, pos=array([ 1, -1]), label='B', attrs={}), [0, 3]), 6: (Node(is_hyperedge=True, pos=array([1, 1]), label='B', attrs={}), [1, 4]), 7: (Node(is_hyperedge=True, pos=array([1.9, 0. ]), label='A', attrs={}), [3, 4])}), seed_node=2, attributes=<function Production.<lambda> at 0x000002995610C430>, predicate=<function Production.<lambda> at 0x000002995610C550>)"
      ]
     },
     "execution_count": 9,
     "metadata": {},
     "output_type": "execute_result"
    }
   ],
   "source": [
    "prod = Production(\n",
    "    left = Graph({\n",
    "        0: vertex((0, -1)),\n",
    "        1: vertex((0,  1)),\n",
    "        2: hyperedge((-0.1, 0), \"A\", [0, 1])\n",
    "    }),\n",
    "    right = Graph({\n",
    "        0: vertex((0, -1)),\n",
    "        1: vertex((0,  1)),\n",
    "        2: hyperedge((0, 0), \"X\", [0, 1]),\n",
    "        3: vertex((2, -1)),\n",
    "        4: vertex((2,  1)),\n",
    "        5: hyperedge((1, -1), \"B\", [0, 3]),\n",
    "        6: hyperedge((1,  1), \"B\", [1, 4]),\n",
    "        7: hyperedge((1.9,  0), \"A\", [3, 4]),\n",
    "    }),\n",
    "    seed_node = 2\n",
    ")"
   ]
  },
  {
   "cell_type": "code",
   "execution_count": 5,
   "id": "68c48286",
   "metadata": {},
   "outputs": [
    {
     "data": {
      "image/svg+xml": [
       "<svg baseProfile=\"full\" height=\"400px\" version=\"1.1\" width=\"400px\" xmlns=\"http://www.w3.org/2000/svg\" xmlns:ev=\"http://www.w3.org/2001/xml-events\" xmlns:xlink=\"http://www.w3.org/1999/xlink\"><defs /><svg viewBox=\"-40.0,-140.0,680.0000000000003,280.0\"><defs /><line stroke=\"black\" x1=\"0.0px\" x2=\"0.0px\" y1=\"0.0px\" y2=\"-100.0px\" /><line stroke=\"black\" x1=\"0.0px\" x2=\"0.0px\" y1=\"0.0px\" y2=\"100.0px\" /><line stroke=\"black\" x1=\"100.0px\" x2=\"0.0px\" y1=\"100.0px\" y2=\"100.0px\" /><line stroke=\"black\" x1=\"100.0px\" x2=\"200.0px\" y1=\"100.0px\" y2=\"100.0px\" /><line stroke=\"black\" x1=\"100.0px\" x2=\"0.0px\" y1=\"-100.0px\" y2=\"-100.0px\" /><line stroke=\"black\" x1=\"100.0px\" x2=\"200.0px\" y1=\"-100.0px\" y2=\"-100.0px\" /><line stroke=\"black\" x1=\"200.0px\" x2=\"200.0px\" y1=\"0.0px\" y2=\"100.0px\" /><line stroke=\"black\" x1=\"200.0px\" x2=\"200.0px\" y1=\"0.0px\" y2=\"-100.0px\" /><line stroke=\"black\" x1=\"300.0000000000001px\" x2=\"200.0px\" y1=\"-100.0px\" y2=\"-100.0px\" /><line stroke=\"black\" x1=\"300.0000000000001px\" x2=\"400.00000000000017px\" y1=\"-100.0px\" y2=\"-100.0px\" /><line stroke=\"black\" x1=\"300.0000000000001px\" x2=\"200.0px\" y1=\"100.0px\" y2=\"100.0px\" /><line stroke=\"black\" x1=\"300.0000000000001px\" x2=\"400.00000000000017px\" y1=\"100.0px\" y2=\"100.0px\" /><line stroke=\"black\" x1=\"400.00000000000017px\" x2=\"400.00000000000017px\" y1=\"0.0px\" y2=\"-100.0px\" /><line stroke=\"black\" x1=\"400.00000000000017px\" x2=\"400.00000000000017px\" y1=\"0.0px\" y2=\"100.0px\" /><line stroke=\"black\" x1=\"500.0000000000003px\" x2=\"400.00000000000017px\" y1=\"100.0px\" y2=\"100.0px\" /><line stroke=\"black\" x1=\"500.0000000000003px\" x2=\"600.0000000000003px\" y1=\"100.0px\" y2=\"100.0px\" /><line stroke=\"black\" x1=\"500.0000000000003px\" x2=\"400.00000000000017px\" y1=\"-100.0px\" y2=\"-100.0px\" /><line stroke=\"black\" x1=\"500.0000000000003px\" x2=\"600.0000000000003px\" y1=\"-100.0px\" y2=\"-100.0px\" /><line stroke=\"black\" x1=\"590.0000000000003px\" x2=\"600.0000000000003px\" y1=\"0.0px\" y2=\"100.0px\" /><line stroke=\"black\" x1=\"590.0000000000003px\" x2=\"600.0000000000003px\" y1=\"0.0px\" y2=\"-100.0px\" /><circle cx=\"0.0px\" cy=\"-100.0px\" r=\"2px\" /><circle cx=\"0.0px\" cy=\"100.0px\" r=\"2px\" /><rect fill=\"white\" height=\"30px\" stroke=\"black\" width=\"30px\" x=\"-15.0px\" y=\"-15.0px\" /><text dominant-baseline=\"middle\" text-anchor=\"middle\" x=\"0.0px\" y=\"0.0px\">X</text><text dominant-baseline=\"middle\" text-anchor=\"middle\" x=\"0.0px\" y=\"30.0px\">x = 0</text><text dominant-baseline=\"middle\" text-anchor=\"middle\" x=\"0.0px\" y=\"45.0px\">y = 0</text><circle cx=\"200.0px\" cy=\"100.0px\" r=\"2px\" /><circle cx=\"200.0px\" cy=\"-100.0px\" r=\"2px\" /><rect fill=\"white\" height=\"30px\" stroke=\"black\" width=\"30px\" x=\"85.0px\" y=\"85.0px\" /><text dominant-baseline=\"middle\" text-anchor=\"middle\" x=\"100.0px\" y=\"100.0px\">B</text><rect fill=\"white\" height=\"30px\" stroke=\"black\" width=\"30px\" x=\"85.0px\" y=\"-115.0px\" /><text dominant-baseline=\"middle\" text-anchor=\"middle\" x=\"100.0px\" y=\"-100.0px\">B</text><rect fill=\"white\" height=\"30px\" stroke=\"black\" width=\"30px\" x=\"185.0px\" y=\"-15.0px\" /><text dominant-baseline=\"middle\" text-anchor=\"middle\" x=\"200.0px\" y=\"0.0px\">X</text><text dominant-baseline=\"middle\" text-anchor=\"middle\" x=\"200.0px\" y=\"30.0px\">x = 1</text><text dominant-baseline=\"middle\" text-anchor=\"middle\" x=\"200.0px\" y=\"45.0px\">y = 0</text><circle cx=\"400.00000000000017px\" cy=\"-100.0px\" r=\"2px\" /><circle cx=\"400.00000000000017px\" cy=\"100.0px\" r=\"2px\" /><rect fill=\"white\" height=\"30px\" stroke=\"black\" width=\"30px\" x=\"285.0000000000001px\" y=\"-115.0px\" /><text dominant-baseline=\"middle\" text-anchor=\"middle\" x=\"300.0000000000001px\" y=\"-100.0px\">B</text><rect fill=\"white\" height=\"30px\" stroke=\"black\" width=\"30px\" x=\"285.0000000000001px\" y=\"85.0px\" /><text dominant-baseline=\"middle\" text-anchor=\"middle\" x=\"300.0000000000001px\" y=\"100.0px\">B</text><rect fill=\"white\" height=\"30px\" stroke=\"black\" width=\"30px\" x=\"385.00000000000017px\" y=\"-15.0px\" /><text dominant-baseline=\"middle\" text-anchor=\"middle\" x=\"400.00000000000017px\" y=\"0.0px\">X</text><text dominant-baseline=\"middle\" text-anchor=\"middle\" x=\"400.00000000000017px\" y=\"30.0px\">x = 2</text><text dominant-baseline=\"middle\" text-anchor=\"middle\" x=\"400.00000000000017px\" y=\"45.0px\">y = 0</text><circle cx=\"600.0000000000003px\" cy=\"100.0px\" r=\"2px\" /><circle cx=\"600.0000000000003px\" cy=\"-100.0px\" r=\"2px\" /><rect fill=\"white\" height=\"30px\" stroke=\"black\" width=\"30px\" x=\"485.0000000000003px\" y=\"85.0px\" /><text dominant-baseline=\"middle\" text-anchor=\"middle\" x=\"500.0000000000003px\" y=\"100.0px\">B</text><rect fill=\"white\" height=\"30px\" stroke=\"black\" width=\"30px\" x=\"485.0000000000003px\" y=\"-115.0px\" /><text dominant-baseline=\"middle\" text-anchor=\"middle\" x=\"500.0000000000003px\" y=\"-100.0px\">B</text><rect fill=\"white\" height=\"30px\" stroke=\"black\" width=\"30px\" x=\"575.0000000000003px\" y=\"-15.0px\" /><text dominant-baseline=\"middle\" text-anchor=\"middle\" x=\"590.0000000000003px\" y=\"0.0px\">A</text><text dominant-baseline=\"middle\" text-anchor=\"middle\" x=\"590.0000000000003px\" y=\"30.0px\">x = 3</text><text dominant-baseline=\"middle\" text-anchor=\"middle\" x=\"590.0000000000003px\" y=\"45.0px\">y = 0</text></svg></svg>"
      ],
      "text/plain": [
       "Graph(nodes={0: (Node(is_hyperedge=False, pos=array([ 0., -1.]), label='', attrs={}), [2, 6]), 1: (Node(is_hyperedge=False, pos=array([0., 1.]), label='', attrs={}), [2, 5]), 2: (Node(is_hyperedge=True, pos=array([0., 0.]), label='X', attrs={'x': 0, 'y': 0}), [0, 1]), 3: (Node(is_hyperedge=False, pos=array([2., 1.]), label='', attrs={}), [11, 5, 7]), 4: (Node(is_hyperedge=False, pos=array([ 2., -1.]), label='', attrs={}), [10, 6, 7]), 5: (Node(is_hyperedge=True, pos=array([1., 1.]), label='B', attrs={}), [1, 3]), 6: (Node(is_hyperedge=True, pos=array([ 1., -1.]), label='B', attrs={}), [0, 4]), 7: (Node(is_hyperedge=True, pos=array([2., 0.]), label='X', attrs={'x': 1, 'y': 0}), [3, 4]), 8: (Node(is_hyperedge=False, pos=array([ 4., -1.]), label='', attrs={}), [16, 10, 12]), 9: (Node(is_hyperedge=False, pos=array([4., 1.]), label='', attrs={}), [11, 12, 15]), 10: (Node(is_hyperedge=True, pos=array([ 3., -1.]), label='B', attrs={}), [4, 8]), 11: (Node(is_hyperedge=True, pos=array([3., 1.]), label='B', attrs={}), [3, 9]), 12: (Node(is_hyperedge=True, pos=array([4., 0.]), label='X', attrs={'x': 2, 'y': 0}), [8, 9]), 13: (Node(is_hyperedge=False, pos=array([6., 1.]), label='', attrs={}), [15, 17]), 14: (Node(is_hyperedge=False, pos=array([ 6., -1.]), label='', attrs={}), [16, 17]), 15: (Node(is_hyperedge=True, pos=array([5., 1.]), label='B', attrs={}), [9, 13]), 16: (Node(is_hyperedge=True, pos=array([ 5., -1.]), label='B', attrs={}), [8, 14]), 17: (Node(is_hyperedge=True, pos=array([5.9, 0. ]), label='A', attrs={'x': 3, 'y': 0}), [13, 14])})"
      ]
     },
     "execution_count": 5,
     "metadata": {},
     "output_type": "execute_result"
    }
   ],
   "source": [
    "graph = starting_graph\n",
    "graph = prod.apply_many(graph)"
   ]
  },
  {
   "cell_type": "code",
   "execution_count": 6,
   "id": "4ce734ab-90ae-4c2a-9e4a-783fcd1476b2",
   "metadata": {},
   "outputs": [
    {
     "data": {
      "image/svg+xml": [
       "<svg baseProfile=\"full\" height=\"400px\" version=\"1.1\" viewBox=\"0,0,900,400\" width=\"900px\" xmlns=\"http://www.w3.org/2000/svg\" xmlns:ev=\"http://www.w3.org/2001/xml-events\" xmlns:xlink=\"http://www.w3.org/1999/xlink\"><defs /><svg height=\"400px\" viewBox=\"-140,-140,280,180\" width=\"400px\" x=\"0px\"><defs /><line stroke=\"black\" x1=\"-100px\" x2=\"-100px\" y1=\"-100px\" y2=\"0px\" /><line stroke=\"black\" x1=\"0px\" x2=\"-100px\" y1=\"0px\" y2=\"0px\" /><line stroke=\"black\" x1=\"0px\" x2=\"100px\" y1=\"0px\" y2=\"0px\" /><circle cx=\"-100px\" cy=\"0px\" r=\"2px\" /><text dominant-baseline=\"middle\" text-anchor=\"middle\" x=\"-90px\" y=\"10px\">0</text><circle cx=\"100px\" cy=\"0px\" r=\"2px\" /><text dominant-baseline=\"middle\" text-anchor=\"middle\" x=\"110px\" y=\"10px\">1</text><rect fill=\"white\" height=\"30px\" stroke=\"black\" width=\"30px\" x=\"-115.0px\" y=\"-115.0px\" /><text dominant-baseline=\"middle\" text-anchor=\"middle\" x=\"-100px\" y=\"-100px\">X</text><text dominant-baseline=\"middle\" text-anchor=\"middle\" x=\"-75.0px\" y=\"-75.0px\">2</text><rect fill=\"white\" height=\"30px\" stroke=\"black\" width=\"30px\" x=\"-15.0px\" y=\"-15.0px\" /><text dominant-baseline=\"middle\" text-anchor=\"middle\" x=\"0px\" y=\"0px\">B</text><text dominant-baseline=\"middle\" text-anchor=\"middle\" x=\"25.0px\" y=\"25.0px\">3</text></svg><svg height=\"400px\" viewBox=\"-140,-140,280,380\" width=\"400px\" x=\"500px\"><defs /><line stroke=\"black\" x1=\"-100px\" x2=\"-100px\" y1=\"-100px\" y2=\"0px\" /><line stroke=\"black\" x1=\"0px\" x2=\"-100px\" y1=\"0px\" y2=\"0px\" /><line stroke=\"black\" x1=\"0px\" x2=\"100px\" y1=\"0px\" y2=\"0px\" /><line stroke=\"black\" x1=\"-100px\" x2=\"-100px\" y1=\"100px\" y2=\"0px\" /><line stroke=\"black\" x1=\"-100px\" x2=\"-100px\" y1=\"100px\" y2=\"200px\" /><line stroke=\"black\" x1=\"100px\" x2=\"100px\" y1=\"100px\" y2=\"0px\" /><line stroke=\"black\" x1=\"100px\" x2=\"100px\" y1=\"100px\" y2=\"200px\" /><line stroke=\"black\" x1=\"0px\" x2=\"-100px\" y1=\"200px\" y2=\"200px\" /><line stroke=\"black\" x1=\"0px\" x2=\"100px\" y1=\"200px\" y2=\"200px\" /><circle cx=\"-100px\" cy=\"0px\" r=\"2px\" /><text dominant-baseline=\"middle\" text-anchor=\"middle\" x=\"-90px\" y=\"10px\">0</text><circle cx=\"100px\" cy=\"0px\" r=\"2px\" /><text dominant-baseline=\"middle\" text-anchor=\"middle\" x=\"110px\" y=\"10px\">1</text><rect fill=\"white\" height=\"30px\" stroke=\"black\" width=\"30px\" x=\"-115.0px\" y=\"-115.0px\" /><text dominant-baseline=\"middle\" text-anchor=\"middle\" x=\"-100px\" y=\"-100px\">X</text><text dominant-baseline=\"middle\" text-anchor=\"middle\" x=\"-75.0px\" y=\"-75.0px\">2</text><rect fill=\"white\" height=\"30px\" stroke=\"black\" width=\"30px\" x=\"-15.0px\" y=\"-15.0px\" /><text dominant-baseline=\"middle\" text-anchor=\"middle\" x=\"0px\" y=\"0px\">X</text><text dominant-baseline=\"middle\" text-anchor=\"middle\" x=\"25.0px\" y=\"25.0px\">3</text><circle cx=\"-100px\" cy=\"200px\" r=\"2px\" /><text dominant-baseline=\"middle\" text-anchor=\"middle\" x=\"-90px\" y=\"210px\">4</text><circle cx=\"100px\" cy=\"200px\" r=\"2px\" /><text dominant-baseline=\"middle\" text-anchor=\"middle\" x=\"110px\" y=\"210px\">5</text><rect fill=\"white\" height=\"30px\" stroke=\"black\" width=\"30px\" x=\"-115.0px\" y=\"85.0px\" /><text dominant-baseline=\"middle\" text-anchor=\"middle\" x=\"-100px\" y=\"100px\">X</text><text dominant-baseline=\"middle\" text-anchor=\"middle\" x=\"-75.0px\" y=\"125.0px\">6</text><rect fill=\"white\" height=\"30px\" stroke=\"black\" width=\"30px\" x=\"85.0px\" y=\"85.0px\" /><text dominant-baseline=\"middle\" text-anchor=\"middle\" x=\"100px\" y=\"100px\">X</text><text dominant-baseline=\"middle\" text-anchor=\"middle\" x=\"125.0px\" y=\"125.0px\">7</text><rect fill=\"white\" height=\"30px\" stroke=\"black\" width=\"30px\" x=\"-15.0px\" y=\"185.0px\" /><text dominant-baseline=\"middle\" text-anchor=\"middle\" x=\"0px\" y=\"200px\">B</text><text dominant-baseline=\"middle\" text-anchor=\"middle\" x=\"25.0px\" y=\"225.0px\">8</text></svg><line stroke=\"black\" x1=\"420px\" x2=\"480px\" y1=\"200px\" y2=\"200px\" /><line stroke=\"black\" x1=\"480px\" x2=\"460px\" y1=\"200px\" y2=\"210px\" /><line stroke=\"black\" x1=\"480px\" x2=\"460px\" y1=\"200px\" y2=\"190px\" /></svg>"
      ],
      "text/plain": [
       "Production(left=Graph(nodes={0: (Node(is_hyperedge=False, pos=array([-1,  0]), label='', attrs={}), [2, 3]), 1: (Node(is_hyperedge=False, pos=array([1, 0]), label='', attrs={}), [3]), 2: (Node(is_hyperedge=True, pos=array([-1, -1]), label='X', attrs={}), [0]), 3: (Node(is_hyperedge=True, pos=array([0, 0]), label='B', attrs={}), [0, 1])}), right=Graph(nodes={0: (Node(is_hyperedge=False, pos=array([-1,  0]), label='', attrs={}), [2, 3, 6]), 1: (Node(is_hyperedge=False, pos=array([1, 0]), label='', attrs={}), [3, 7]), 2: (Node(is_hyperedge=True, pos=array([-1, -1]), label='X', attrs={}), [0]), 3: (Node(is_hyperedge=True, pos=array([0, 0]), label='X', attrs={}), [0, 1]), 4: (Node(is_hyperedge=False, pos=array([-1,  2]), label='', attrs={}), [6, 8]), 5: (Node(is_hyperedge=False, pos=array([1, 2]), label='', attrs={}), [7, 8]), 6: (Node(is_hyperedge=True, pos=array([-1,  1]), label='X', attrs={}), [0, 4]), 7: (Node(is_hyperedge=True, pos=array([1, 1]), label='X', attrs={}), [1, 5]), 8: (Node(is_hyperedge=True, pos=array([0, 2]), label='B', attrs={}), [4, 5])}), seed_node=3, attributes=<function Production.<lambda> at 0x000002995610C430>, predicate=<function Production.<lambda> at 0x000002995610C550>)"
      ]
     },
     "execution_count": 6,
     "metadata": {},
     "output_type": "execute_result"
    }
   ],
   "source": [
    "prod2 = Production(\n",
    "  left = Graph({\n",
    "    0: vertex((-1, 0)),\n",
    "    1: vertex((1, 0)),\n",
    "    2: hyperedge((-1, -1), \"X\", [0]),\n",
    "    3: hyperedge((0, 0), \"B\", [0, 1])\n",
    "  }), \n",
    "  right = Graph({\n",
    "    0: vertex((-1, 0)),\n",
    "    1: vertex((1, 0)),\n",
    "    2: hyperedge((-1, -1), \"X\", [0]),\n",
    "    3: hyperedge((0, 0), \"X\", [0, 1]),\n",
    "    \n",
    "    4: vertex((-1, 2)),\n",
    "    5: vertex((1, 2)),\n",
    "    6: hyperedge((-1, 1), \"X\", [0, 4]),\n",
    "    7: hyperedge((1, 1), \"X\", [1, 5]),\n",
    "    8: hyperedge((0, 2), \"B\", [4, 5])\n",
    "  }),\n",
    "  seed_node = 3,\n",
    ")"
   ]
  }
 ],
 "metadata": {
  "kernelspec": {
   "display_name": "Python 3 (ipykernel)",
   "language": "python",
   "name": "python3"
  },
  "language_info": {
   "codemirror_mode": {
    "name": "ipython",
    "version": 3
   },
   "file_extension": ".py",
   "mimetype": "text/x-python",
   "name": "python",
   "nbconvert_exporter": "python",
   "pygments_lexer": "ipython3",
   "version": "3.10.0"
  }
 },
 "nbformat": 4,
 "nbformat_minor": 5
}
