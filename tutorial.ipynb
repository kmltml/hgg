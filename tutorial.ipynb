{
 "cells": [
  {
   "cell_type": "code",
   "execution_count": null,
   "id": "6484d4b6",
   "metadata": {},
   "outputs": [],
   "source": [
    "from hypergraph import *"
   ]
  },
  {
   "cell_type": "markdown",
   "id": "f5a1376b",
   "metadata": {
    "tags": []
   },
   "source": [
    "# Graf\n",
    "Hipergrafy są reprezentowane przez instancje klasy `Graph`. Składa się ona z węzłów (klasa `Node`), które odpowiadają wierzchołkom oraz hiperkrawędziom. Każdy węzeł ma poniższe właściwości:\n",
    "- `pos` - Pozycja\n",
    "- `label` - Etykieta\n",
    "- `attrs` - Słownik zawierający atrybuty\n",
    "- `is_hyperedge` - `True` jeżeli węzeł jest hiperkrawędzią, `False` w przeciwnym przypadku\n",
    "\n",
    "W grafie każdy węzeł posiada unikalny identyfikator liczbowy oraz listę węzłów, z którymi jest połączony.\n",
    "\n",
    "Przy tworzeniu grafu przydatne są poniższe funkcje:\n",
    "\n",
    "`vertex(pos: tuple[int, int], label: str = \"\", neighbours: Optional[list[int]] = None, attrs: Optional[dict[str, str]] = None\n",
    ")`\n",
    "\n",
    "`hyperedge(pos: tuple[int, int], label: str, neighbours: list[int], attrs: Optional[dict[str, str]] = None)`\n",
    "\n",
    "Poniżej podany jest przykład prostego grafu."
   ]
  },
  {
   "cell_type": "code",
   "execution_count": null,
   "id": "3324fe97",
   "metadata": {},
   "outputs": [],
   "source": [
    "starting_graph = Graph({\n",
    "  0: vertex((0, -1)),\n",
    "  1: vertex((0,  1)),\n",
    "  2: hyperedge((-0.1, 0), \"A\", [0, 1], attrs = { \"x\": 0, \"y\": 0 })\n",
    "})\n",
    "display(starting_graph)"
   ]
  },
  {
   "cell_type": "markdown",
   "id": "6afa546a",
   "metadata": {},
   "source": [
    "Podawanie sąsiadów jest wymagane jedynie w przypadku hiperkrawędzi."
   ]
  },
  {
   "cell_type": "markdown",
   "id": "d62c4300",
   "metadata": {},
   "source": [
    "# Produkcje\n",
    "Produkcje są reprezentowane przez instancje klasy `Production`. Zawiera ona grafy lewej oraz prawej strony.\n",
    "\n",
    "Węzły z równymi identyfikatorami po lewej i po prawej stronie produkcji zachowują atrybuty oraz poprzednio istniejące połączenia z resztą grafu po zastosowaniu reguły.\n",
    "\n",
    "__Uwaga__, w przeciwieństwie do klasycznej definicji gramatyk hipergrafowych, gdzie transformacja ta dotyczy tylko wierzchołków zewnętrznych w tej bibliotece działa to również dla hiperkrawędzi."
   ]
  },
  {
   "cell_type": "code",
   "execution_count": null,
   "id": "750303a9",
   "metadata": {},
   "outputs": [],
   "source": [
    "prod = Production(\n",
    "    left = Graph({\n",
    "        0: vertex((0, -1)),\n",
    "        1: vertex((0,  1)),\n",
    "        2: hyperedge((-0.1, 0), \"A\", [0, 1])\n",
    "    }),\n",
    "    right = Graph({\n",
    "        0: vertex((0, -1)),\n",
    "        1: vertex((0,  1)),\n",
    "        2: hyperedge((0, 0), \"X\", [0, 1]),\n",
    "        3: vertex((2, -1)),\n",
    "        4: vertex((2,  1)),\n",
    "        5: hyperedge((1, -1), \"B\", [0, 3]),\n",
    "        6: hyperedge((1,  1), \"B\", [1, 4]),\n",
    "        7: hyperedge((1.9,  0), \"A\", [3, 4]),\n",
    "    }),\n",
    "    seed_node = 2\n",
    ")\n",
    "display(prod)"
   ]
  },
  {
   "cell_type": "markdown",
   "id": "898c9378",
   "metadata": {},
   "source": [
    "Produkcję można zastosować przy pomocy metody `apply_once`. Przyjmuje ona graf jako argument i zwraca nowy graf. Jeżeli nie istnieje miejsce, gdzie produkcja może być zastosowana, zostaje zwrócony niezmieniony graf. Oryginalny graf nigdy nie zostaje modyfikowany."
   ]
  },
  {
   "cell_type": "code",
   "execution_count": null,
   "id": "2ba963f7",
   "metadata": {},
   "outputs": [],
   "source": [
    "graph = starting_graph\n",
    "graph = prod.apply_once(graph)\n",
    "display(graph)"
   ]
  },
  {
   "cell_type": "markdown",
   "id": "0f8c1419",
   "metadata": {},
   "source": [
    "## Ustalanie pozycji\n",
    "Pozycje węzłów po zastosowaniu produkcji zostają określone na podstawie pozycji określonych w lewej i prawej stronie produkcji oraz pozycji węzłów usuwanych z grafu. Następuje to według poniższego algorytmu:\n",
    "\n",
    "1. Znajdź przekształcenie afiniczne (dowolne złożenie obrotu, skalowania i przesunięcia) które mapuje pozycje trzech pierwszych węzłów lewej strony produkcji na pozycje odpowiadających im węzłów w modyfikowanym grafie\n",
    "2. Zastosuj to przekształcenie dla każdego węzła z prawej strony produkcji\n",
    "\n",
    "W związku z taką implementacją w każdej produkcji po lewej stronie trzy pierwsze węzły (o indeksach `0, 1, 2`) nie mogą być współliniowe, żeby transformacja wyznaczana w punkcie była jednoznaczna.\n",
    "\n",
    "## Atrybuty\n",
    "Produkcje mogą przypisywać atrybuty węzłom z prawej strony. Jest to możliwe poprzez podanie argumentu `attributes` przy tworzeniu produkcji. Wartością tego argumentu powinna być funkcja, która przyjmuje słownik zawierający wszystkie węzły zamieniane w grafie, identyfikowane po indeksach z lewej strony produkcji. Funkcja powinna zwrócić słownik zawierający zestaw atrybutów (jako słownik) dla każdego węzła z prawej strony, który powinien otrzymać atrybuty. Jeżeli węzeł nie występuje w tym słowniku to zachowuje swoje atrybuty.\n",
    "\n",
    "Poniżej pokazana jest poprzednia produkcja zmodyfikowana tak, żeby ustalała atrybut x i y dla nowej hiperkrawędzi:"
   ]
  },
  {
   "cell_type": "code",
   "execution_count": null,
   "id": "c38c825a",
   "metadata": {},
   "outputs": [],
   "source": [
    "prod = Production(\n",
    "    left = Graph({\n",
    "        0: vertex((0, -1)),\n",
    "        1: vertex((0,  1)),\n",
    "        2: hyperedge((-0.1, 0), \"A\", [0, 1])\n",
    "    }),\n",
    "    right = Graph({\n",
    "        0: vertex((0, -1)),\n",
    "        1: vertex((0,  1)),\n",
    "        2: hyperedge((0, 0), \"X\", [0, 1]),\n",
    "        3: vertex((2, -1)),\n",
    "        4: vertex((2,  1)),\n",
    "        5: hyperedge((1, -1), \"B\", [0, 3]),\n",
    "        6: hyperedge((1,  1), \"B\", [1, 4]),\n",
    "        7: hyperedge((1.9,  0), \"A\", [3, 4]),\n",
    "    }),\n",
    "    attributes = lambda n: {\n",
    "        7: {\n",
    "            \"x\": n[2].attrs[\"x\"] + 1,\n",
    "            \"y\": n[2].attrs[\"y\"]\n",
    "        }\n",
    "    },\n",
    "    seed_node = 2\n",
    ")\n",
    "display(prod)"
   ]
  },
  {
   "cell_type": "code",
   "execution_count": null,
   "id": "0846ec0d",
   "metadata": {},
   "outputs": [],
   "source": [
    "graph = starting_graph\n",
    "graph = prod.apply_many(graph, max_applications = 2) # max_applications ogranicza ile razy produkcja zostanie zastosowana,\n",
    "                                                     # bez tego argumentu program wpadnie w nieskończoną pętlę\n",
    "display(graph)"
   ]
  },
  {
   "cell_type": "markdown",
   "id": "e6a6b5f9",
   "metadata": {},
   "source": [
    "## Stosowalność produkcji\n",
    "\n",
    "Można określić predykat ograniczający stosowalność produkcji podając argument `predicate` przy tworzeniu produkcji. Argument ten powinien być funkcją, która przyjmuje taki sam argument, jak `attributes` i zwraca wartość `True`, jeżeli produkcja może być zastosowana, `False` w przeciwnym przypadku. \n",
    "\n",
    "Poniżej przedstawiona jest poprzednia produkcja z modyfikacją, która pozwala ją zastosować jedynie jeśli atrybut _x_ jest mniejszy od 3."
   ]
  },
  {
   "cell_type": "code",
   "execution_count": null,
   "id": "b595d9fc",
   "metadata": {},
   "outputs": [],
   "source": [
    "prod = Production(\n",
    "    left = Graph({\n",
    "        0: vertex((0, -1)),\n",
    "        1: vertex((0,  1)),\n",
    "        2: hyperedge((-0.1, 0), \"A\", [0, 1])\n",
    "    }),\n",
    "    right = Graph({\n",
    "        0: vertex((0, -1)),\n",
    "        1: vertex((0,  1)),\n",
    "        2: hyperedge((0, 0), \"X\", [0, 1]),\n",
    "        3: vertex((2, -1)),\n",
    "        4: vertex((2,  1)),\n",
    "        5: hyperedge((1, -1), \"B\", [0, 3]),\n",
    "        6: hyperedge((1,  1), \"B\", [1, 4]),\n",
    "        7: hyperedge((1.9,  0), \"A\", [3, 4]),\n",
    "    }),\n",
    "    attributes = lambda n: {\n",
    "        7: {\n",
    "            \"x\": n[2].attrs[\"x\"] + 1,\n",
    "            \"y\": n[2].attrs[\"y\"]\n",
    "        }\n",
    "    },\n",
    "    predicate = lambda n: n[2].attrs[\"x\"] < 3,\n",
    "    seed_node = 2\n",
    ")\n",
    "display(prod)"
   ]
  },
  {
   "cell_type": "code",
   "execution_count": null,
   "id": "8b1a60b5",
   "metadata": {},
   "outputs": [],
   "source": [
    "graph = starting_graph\n",
    "graph = prod.apply_many(graph) # max_applications nie jest już potrzebne, ponieważ po zastosowaniu 3 razy \n",
    "                               # produkcja przestaje być stosowalna\n",
    "display(graph)"
   ]
  },
  {
   "cell_type": "markdown",
   "id": "00b3449f",
   "metadata": {},
   "source": [
    "## Wyświetlanie możliwych miejsc zastosowania\n",
    "Metody `apply_once` oraz `apply_many` nie specyfikują w którym miejscu produkcja zostanie zastosowana, zależy to od kolejności przeszukiwania węzłów. Przy badaniu gramatyki przydatne może być zobaczenie wszystkich miejsc, gdzie dana produkcja może być zastosowana. Służy do tego metoda `apply_all_possible`, która pozwala przeiterować po wszystkich grafach, które mogą powstać przez zastosowanie produkcji do danego grafu jeden raz:"
   ]
  },
  {
   "cell_type": "code",
   "execution_count": null,
   "id": "c38e8759",
   "metadata": {},
   "outputs": [],
   "source": [
    "prod2 = Production(\n",
    "  left = Graph({\n",
    "    0: vertex((-1, 0)),\n",
    "    1: vertex((1, 0)),\n",
    "    2: hyperedge((-1, -1), \"X\", [0]),\n",
    "    3: hyperedge((0, 0), \"B\", [0, 1])\n",
    "  }), \n",
    "  right = Graph({\n",
    "    0: vertex((-1, 0)),\n",
    "    1: vertex((1, 0)),\n",
    "    2: hyperedge((-1, -1), \"X\", [0]),\n",
    "    3: hyperedge((0, 0), \"X\", [0, 1]),\n",
    "    \n",
    "    4: vertex((-1, 2)),\n",
    "    5: vertex((1, 2)),\n",
    "    6: hyperedge((-1, 1), \"X\", [0, 4]),\n",
    "    7: hyperedge((1, 1), \"X\", [1, 5]),\n",
    "    8: hyperedge((0, 2), \"B\", [4, 5])\n",
    "  }),\n",
    "  seed_node = 3,\n",
    ")\n",
    "display(prod2)"
   ]
  },
  {
   "cell_type": "code",
   "execution_count": null,
   "id": "bd8ae4a7",
   "metadata": {},
   "outputs": [],
   "source": [
    "display(graph)"
   ]
  },
  {
   "cell_type": "code",
   "execution_count": null,
   "id": "aa6be996",
   "metadata": {},
   "outputs": [],
   "source": [
    "for g in prod2.apply_all_possible(graph):\n",
    "    display(g)"
   ]
  },
  {
   "cell_type": "markdown",
   "id": "754c0689",
   "metadata": {},
   "source": [
    "Należy zwrócić uwagę na to, że każdy graf, oprócz ostatnich dwóch, jest powtórzony dwa razy. Jest to spowodowane tym, że wierzchołki 0 i 1 mogą być odpowiednio po lewej i prawej, albo przeciwnie. Produkcja nie pozwala jednoznacznie wybrać interpretacji."
   ]
  },
  {
   "cell_type": "markdown",
   "id": "eb53056a",
   "metadata": {},
   "source": [
    "# Przykładowa gramatyka\n",
    "\n",
    "Przykładowa gramatyka generująca szachownicę o zadanych wymiarach"
   ]
  },
  {
   "cell_type": "code",
   "execution_count": null,
   "id": "de17b041",
   "metadata": {},
   "outputs": [],
   "source": [
    "width = 4\n",
    "height = 4"
   ]
  },
  {
   "cell_type": "code",
   "execution_count": null,
   "id": "c836d294",
   "metadata": {},
   "outputs": [],
   "source": [
    "starting_graph = Graph({\n",
    "    0: vertex((-1, -1)),\n",
    "    1: vertex((-1,  1)),\n",
    "    2: vertex(( 1,  1)),\n",
    "    3: vertex(( 1, -1)),\n",
    "    4: hyperedge((0, 0), \"S\", [0, 1, 2, 3], attrs = { \"x\": 0, \"y\": 0, \"color\": 0 }),\n",
    "    5: hyperedge((-1,  0), \"O\", [0, 1]),\n",
    "    6: hyperedge(( 0,  1), \"O\", [1, 2]),\n",
    "    7: hyperedge(( 1,  0), \"V\", [2, 3]),\n",
    "    8: hyperedge(( 0, -1), \"H\", [3, 0])\n",
    "})\n",
    "display(starting_graph)"
   ]
  },
  {
   "cell_type": "code",
   "execution_count": null,
   "id": "32112cd3",
   "metadata": {},
   "outputs": [],
   "source": [
    "prod1 = Production(\n",
    "  left = Graph({\n",
    "    0: vertex(( 0,  1)),\n",
    "    1: vertex(( 0, -1)),\n",
    "    2: hyperedge((-1, 0), \"S\", [0, 1]),\n",
    "    3: hyperedge(( 0, 0), \"V\", [0, 1]),\n",
    "    4: hyperedge((-1, 1), \"O\", [0]),\n",
    "  }), \n",
    "  right = Graph({\n",
    "    0: vertex(( 0,  1)),\n",
    "    1: vertex(( 0, -1)),\n",
    "    2: hyperedge((-1, 0), \"S\", [0, 1]),\n",
    "    3: hyperedge(( 0, 0), \"E\", [0, 1]),\n",
    "    4: hyperedge((-1, 1), \"O\", [0]),\n",
    "    5: vertex(( 2,  1)),\n",
    "    6: vertex(( 2, -1)),\n",
    "    7: hyperedge((1,  1), \"O\", [0, 5]),\n",
    "    8: hyperedge((1, -1), \"H\", [1, 6]),\n",
    "    9: hyperedge((2,  0), \"V\", [5, 6]),\n",
    "    10: hyperedge((1,  0), \"S\", [0, 1, 5, 6]),\n",
    "  }),\n",
    "  attributes = lambda n: {\n",
    "    10: { \n",
    "      \"x\": n[2].attrs[\"x\"] + 1,\n",
    "      \"y\": n[2].attrs[\"y\"],\n",
    "      \"color\": 1 - n[2].attrs[\"color\"]\n",
    "    }\n",
    "  },\n",
    "  predicate = lambda n: n[2].attrs[\"x\"] + 1 < width,\n",
    "  seed_node = 3,\n",
    ")\n",
    "display(prod1)"
   ]
  },
  {
   "cell_type": "code",
   "execution_count": null,
   "id": "94e86168",
   "metadata": {},
   "outputs": [],
   "source": [
    "graph = starting_graph\n",
    "graph = prod1.apply_many(graph)\n",
    "display(graph)"
   ]
  },
  {
   "cell_type": "code",
   "execution_count": null,
   "id": "89c5d0a3",
   "metadata": {},
   "outputs": [],
   "source": [
    "prod2 = Production(\n",
    "  left = Graph({\n",
    "    0: vertex(( 1,  0)),\n",
    "    1: vertex((-1, 0)),\n",
    "    2: hyperedge((0, 1), \"S\", [0, 1]),\n",
    "    3: hyperedge((0, 0), \"H\", [0, 1]),\n",
    "    4: hyperedge((-1, 1), \"O\", [1])\n",
    "  }), \n",
    "  right = Graph({\n",
    "    0: vertex(( 1, 0)),\n",
    "    1: vertex((-1, 0)),\n",
    "    2: hyperedge((0, 1), \"S\", [0, 1]),\n",
    "    3: hyperedge((0, 0), \"E\", [0, 1]),\n",
    "    4: hyperedge((-1, 1), \"O\", [1]),\n",
    "    5: vertex(( 1, -2)),\n",
    "    6: vertex((-1, -2)),\n",
    "    7: hyperedge(( 1, -1), \"V\", [0, 5]),\n",
    "    8: hyperedge((-1, -1), \"O\", [1, 6]),\n",
    "    9: hyperedge(( 0, -2), \"H\", [5, 6]),\n",
    "    10: hyperedge(( 0, -1), \"S\", [0, 1, 5, 6])\n",
    "  }),\n",
    "  attributes = lambda n: {\n",
    "    10: { \n",
    "      \"x\": n[2].attrs[\"x\"],\n",
    "      \"y\": n[2].attrs[\"y\"] + 1,\n",
    "      \"color\": 1 - n[2].attrs[\"color\"]\n",
    "    }\n",
    "  },\n",
    "  predicate = lambda n: n[2].attrs[\"y\"] + 1 < height and n[2].attrs[\"x\"] == 0,\n",
    "  seed_node = 3,\n",
    ")\n",
    "display(prod2)"
   ]
  },
  {
   "cell_type": "code",
   "execution_count": null,
   "id": "9c7cef31",
   "metadata": {},
   "outputs": [],
   "source": [
    "graph = prod2.apply_many(graph)\n",
    "display(graph)"
   ]
  },
  {
   "cell_type": "code",
   "execution_count": null,
   "id": "4f189006-9a84-4484-be51-cd3ce4cdce05",
   "metadata": {},
   "outputs": [],
   "source": [
    "prod3 = Production(\n",
    "  left = Graph({\n",
    "    0: vertex(( 1,  0)),\n",
    "    1: vertex((-1, 0)),\n",
    "    2: vertex((-1, -2)),    \n",
    "    3: hyperedge((0, 1), \"S\", [0, 1]),    \n",
    "    4: hyperedge((-2, -1), \"S\", [1, 2]),\n",
    "    5: hyperedge((0, 0), \"H\", [0, 1]),\n",
    "    6: hyperedge((-1, -1), \"V\", [1, 2])\n",
    "  }), \n",
    "  right = Graph({\n",
    "    0: vertex(( 1,  0)),\n",
    "    1: vertex((-1, 0)),\n",
    "    2: vertex((-1, -2)),    \n",
    "    3: hyperedge((0, 1), \"S\", [0, 1]),    \n",
    "    4: hyperedge((-2, -1), \"S\", [1, 2]),\n",
    "    5: hyperedge((0, 0), \"E\", [0, 1]),\n",
    "    6: hyperedge((-1, -1), \"E\", [1, 2]),\n",
    "    \n",
    "    7: vertex((1, -2)),\n",
    "    8: hyperedge((0, -2), \"H\", [2, 7]),\n",
    "    9: hyperedge((1, -1), \"V\", [0, 7]),\n",
    "    10: hyperedge((0, -1), \"S\", [0, 1, 2, 7])\n",
    "  }),\n",
    "  attributes = lambda n: {\n",
    "    10: { \n",
    "      \"x\": n[3].attrs[\"x\"],\n",
    "      \"y\": n[4].attrs[\"y\"],\n",
    "      \"color\": 1 - n[3].attrs[\"color\"]\n",
    "    }\n",
    "  },\n",
    "  seed_node = 5,\n",
    ")\n",
    "display(prod3)"
   ]
  },
  {
   "cell_type": "code",
   "execution_count": null,
   "id": "17b32893-f731-4a80-a14f-82a5b44a6d03",
   "metadata": {},
   "outputs": [],
   "source": [
    "graph = prod3.apply_many(graph)\n",
    "display(graph)"
   ]
  },
  {
   "cell_type": "markdown",
   "id": "e93127cb-06fd-45c3-8229-98f80aa9fe17",
   "metadata": {},
   "source": [
    "Można zapisać każdy krok wywodu przy pomocy metody `save_svg`"
   ]
  },
  {
   "cell_type": "code",
   "execution_count": null,
   "id": "6cf882d9-2603-448f-a850-7caf8e1d95a1",
   "metadata": {},
   "outputs": [],
   "source": [
    "width = 3\n",
    "height = 3\n",
    "\n",
    "step = 0\n",
    "\n",
    "def output_graph(graph):\n",
    "  global step\n",
    "  graph.save_svg(f\"steps/{step:03d}.svg\")\n",
    "  step += 1\n",
    "\n",
    "graph = starting_graph\n",
    "output_graph(graph)\n",
    "  \n",
    "for production in [prod1, prod2, prod3]:\n",
    "  while True:\n",
    "    g = production.apply_once(graph)\n",
    "    if g is None:\n",
    "      break\n",
    "    graph = g\n",
    "    output_graph(graph)"
   ]
  }
 ],
 "metadata": {
  "kernelspec": {
   "display_name": "Python 3 (ipykernel)",
   "language": "python",
   "name": "python3"
  },
  "language_info": {
   "codemirror_mode": {
    "name": "ipython",
    "version": 3
   },
   "file_extension": ".py",
   "mimetype": "text/x-python",
   "name": "python",
   "nbconvert_exporter": "python",
   "pygments_lexer": "ipython3",
   "version": "3.10.0"
  }
 },
 "nbformat": 4,
 "nbformat_minor": 5
}
